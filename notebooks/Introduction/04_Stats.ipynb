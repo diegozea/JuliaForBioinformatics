{
 "cells": [
  {
   "outputs": [],
   "cell_type": "markdown",
   "source": [
    "# Statistics\n",
    "\n",
    "## Missing values\n",
    "\n",
    "Julia, like R, has a value to represent\n",
    "[missing values](https://docs.julialang.org/en/v1/manual/missing/index.html):"
   ],
   "metadata": {}
  },
  {
   "outputs": [],
   "cell_type": "code",
   "source": [
    "data = [ 1.0, 2.0, missing, 4.0 ]"
   ],
   "metadata": {},
   "execution_count": null
  },
  {
   "outputs": [],
   "cell_type": "markdown",
   "source": [
    "This value implements three-valued logic:"
   ],
   "metadata": {}
  },
  {
   "outputs": [],
   "cell_type": "code",
   "source": [
    "false & missing"
   ],
   "metadata": {},
   "execution_count": null
  },
  {
   "outputs": [],
   "cell_type": "code",
   "source": [
    "true & missing"
   ],
   "metadata": {},
   "execution_count": null
  },
  {
   "outputs": [],
   "cell_type": "markdown",
   "source": [
    "You can use `ismissing` or `skipmissing` when necessary:"
   ],
   "metadata": {}
  },
  {
   "outputs": [],
   "cell_type": "code",
   "source": [
    "sum(data)"
   ],
   "metadata": {},
   "execution_count": null
  },
  {
   "outputs": [],
   "cell_type": "code",
   "source": [
    "ismissing.(data)"
   ],
   "metadata": {},
   "execution_count": null
  },
  {
   "outputs": [],
   "cell_type": "code",
   "source": [
    "sum(data[.!(ismissing.(data))])"
   ],
   "metadata": {},
   "execution_count": null
  },
  {
   "outputs": [],
   "cell_type": "code",
   "source": [
    "sum(skipmissing(data))"
   ],
   "metadata": {},
   "execution_count": null
  },
  {
   "outputs": [],
   "cell_type": "markdown",
   "source": [
    "## DataFrames\n",
    "\n",
    "It is very useful to work with tabular data. One of the most simplest Julia\n",
    "packages for that is [DataFrames](http://juliadata.github.io/DataFrames.jl/stable/)."
   ],
   "metadata": {}
  },
  {
   "outputs": [],
   "cell_type": "code",
   "source": [
    "using DataFrames"
   ],
   "metadata": {},
   "execution_count": null
  },
  {
   "outputs": [],
   "cell_type": "markdown",
   "source": [
    "To read this kind of files, you can use the\n",
    "[CSV package](https://juliadata.github.io/CSV.jl/stable/)."
   ],
   "metadata": {}
  },
  {
   "outputs": [],
   "cell_type": "code",
   "source": [
    "using CSV"
   ],
   "metadata": {},
   "execution_count": null
  },
  {
   "outputs": [],
   "cell_type": "markdown",
   "source": [
    "For example, in the data folder of this repo there is the\n",
    "`pdb_chain_taxonomy.tsv.gz` file that has a summary of the NCBI tax_id(s),\n",
    "scientific_name(s) and chain type for each PDB chain that has been processed\n",
    "in the SIFTS database. This table was downloaded from the\n",
    "[SIFTS site](https://www.ebi.ac.uk/pdbe/docs/sifts/quick.html)."
   ],
   "metadata": {}
  },
  {
   "outputs": [],
   "cell_type": "code",
   "source": [
    "using  JuliaForBioinformatics\n",
    "repo_path = pathof(JuliaForBioinformatics)\n",
    "table_path = abspath(repo_path, \"..\", \"..\", \"data\", \"pdb_chain_taxonomy.tsv\")"
   ],
   "metadata": {},
   "execution_count": null
  },
  {
   "outputs": [],
   "cell_type": "code",
   "source": [
    "df = CSV.read(table_path,\n",
    "    header = 2,  ## the header is in the second line\n",
    "    delim = '\\t',  ## delimiter is TAB instead of ','\n",
    "    quotechar='`'  ## file don't use \"\" to quote, e.g.: \"Bacillus coli\" Migula 1895\n",
    "    )\n",
    "# ### Examples\n",
    "#\n",
    "# Select human PDB chains:\n",
    "df[:TAX_ID] .== 9606"
   ],
   "metadata": {},
   "execution_count": null
  },
  {
   "outputs": [],
   "cell_type": "code",
   "source": [
    "df[df[:TAX_ID] .== 9606, [:PDB, :CHAIN]] |> unique"
   ],
   "metadata": {},
   "execution_count": null
  },
  {
   "outputs": [],
   "cell_type": "markdown",
   "source": [
    "You can use `|>` for easy function chaining.\n",
    "\n",
    "What are the species with more PDB chains?"
   ],
   "metadata": {}
  },
  {
   "outputs": [],
   "cell_type": "code",
   "source": [
    "count_df = by(df, :TAX_ID, Count = :TAX_ID => length)\n",
    "sort!(count_df, :Count, rev=true)"
   ],
   "metadata": {},
   "execution_count": null
  },
  {
   "outputs": [],
   "cell_type": "markdown",
   "source": [
    "Exercice 1\n",
    "\n",
    "What are the species with more PDBs (not PDB chains)?\n",
    "\n",
    "**Hint:** You can use\n",
    "[anonymous functions](https://docs.julialang.org/en/v1/manual/functions/index.html#man-anonymous-functions-1):"
   ],
   "metadata": {}
  },
  {
   "outputs": [],
   "cell_type": "code",
   "source": [
    "f(x) = 2x + 1\n",
    "g(x) = sin(π*x)"
   ],
   "metadata": {},
   "execution_count": null
  },
  {
   "outputs": [],
   "cell_type": "code",
   "source": [
    "x -> f(g(x))"
   ],
   "metadata": {},
   "execution_count": null
  },
  {
   "outputs": [],
   "cell_type": "markdown",
   "source": [
    "or function composition (using `∘`, `\\circ<TAB>`):"
   ],
   "metadata": {}
  },
  {
   "outputs": [],
   "cell_type": "code",
   "source": [
    "f ∘ g"
   ],
   "metadata": {},
   "execution_count": null
  },
  {
   "outputs": [],
   "cell_type": "code",
   "source": [
    "# ...your solution..."
   ],
   "metadata": {},
   "execution_count": null
  },
  {
   "outputs": [],
   "cell_type": "markdown",
   "source": [
    "*This notebook was generated using [Literate.jl](https://github.com/fredrikekre/Literate.jl).*"
   ],
   "metadata": {}
  }
 ],
 "nbformat_minor": 3,
 "metadata": {
  "language_info": {
   "file_extension": ".jl",
   "mimetype": "application/julia",
   "name": "julia",
   "version": "1.1.0"
  },
  "kernelspec": {
   "name": "julia-1.1",
   "display_name": "Julia 1.1.0",
   "language": "julia"
  }
 },
 "nbformat": 4
}
