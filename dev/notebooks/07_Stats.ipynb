{
 "cells": [
  {
   "outputs": [],
   "cell_type": "markdown",
   "source": [
    "# Statistics\n",
    "\n",
    "\n",
    "## Missing values\n",
    "\n",
    "Julia, like R, has a value to represent\n",
    "[missing values](https://docs.julialang.org/en/v1/manual/missing/index.html):"
   ],
   "metadata": {}
  },
  {
   "outputs": [],
   "cell_type": "code",
   "source": [
    "data = [ 1.0, 2.0, missing, 4.0 ]"
   ],
   "metadata": {},
   "execution_count": null
  },
  {
   "outputs": [],
   "cell_type": "markdown",
   "source": [
    "This value implements three-valued logic:"
   ],
   "metadata": {}
  },
  {
   "outputs": [],
   "cell_type": "code",
   "source": [
    "false & missing"
   ],
   "metadata": {},
   "execution_count": null
  },
  {
   "outputs": [],
   "cell_type": "code",
   "source": [
    "true & missing"
   ],
   "metadata": {},
   "execution_count": null
  },
  {
   "outputs": [],
   "cell_type": "markdown",
   "source": [
    "You can use `ismissing` or `skipmissing` when necessary:"
   ],
   "metadata": {}
  },
  {
   "outputs": [],
   "cell_type": "code",
   "source": [
    "sum(data)"
   ],
   "metadata": {},
   "execution_count": null
  },
  {
   "outputs": [],
   "cell_type": "code",
   "source": [
    "ismissing.(data)"
   ],
   "metadata": {},
   "execution_count": null
  },
  {
   "outputs": [],
   "cell_type": "code",
   "source": [
    "sum(data[.!(ismissing.(data))])"
   ],
   "metadata": {},
   "execution_count": null
  },
  {
   "outputs": [],
   "cell_type": "code",
   "source": [
    "sum(skipmissing(data))"
   ],
   "metadata": {},
   "execution_count": null
  },
  {
   "outputs": [],
   "cell_type": "markdown",
   "source": [
    "## DataFrames\n",
    "\n",
    "It is very useful to work with tabular data. One of the most simplest Julia\n",
    "packages for that is [DataFrames](http://juliadata.github.io/DataFrames.jl/stable/)."
   ],
   "metadata": {}
  },
  {
   "outputs": [],
   "cell_type": "code",
   "source": [
    "using DataFrames"
   ],
   "metadata": {},
   "execution_count": null
  },
  {
   "outputs": [],
   "cell_type": "markdown",
   "source": [
    "To read this kind of files, you can use the\n",
    "[CSV package](https://juliadata.github.io/CSV.jl/stable/)."
   ],
   "metadata": {}
  },
  {
   "outputs": [],
   "cell_type": "code",
   "source": [
    "using CSV"
   ],
   "metadata": {},
   "execution_count": null
  },
  {
   "outputs": [],
   "cell_type": "markdown",
   "source": [
    "For example, the `pdb_chain_taxonomy.tsv.gz` file that has a summary of the\n",
    "NCBI tax_id(s), scientific_name(s) and chain type for each PDB chain that\n",
    "has been processed in the SIFTS database. This table should be downloaded\n",
    "from the [SIFTS site](https://www.ebi.ac.uk/pdbe/docs/sifts/quick.html).\n",
    "\n",
    "```julia\n",
    "table_path = download(\n",
    "    \"ftp://ftp.ebi.ac.uk/pub/databases/msd/sifts/flatfiles/tsv/pdb_chain_taxonomy.tsv.gz\",\n",
    "    \"pdb_chain_taxonomy.tsv.gz\")\n",
    "\n",
    "run(`gunzip $table_path`)\n",
    "```\n",
    "\n",
    "If that fails, you can use the first lines stored in the data folder:\n",
    "```julia\n",
    "using  JuliaForBioinformatics\n",
    "data_path = abspath(pathof(JuliaForBioinformatics), \"..\", \"..\", \"data\")\n",
    "table_path = joinpath(data_path, \"pdb_chain_taxonomy_head.tsv\")\n",
    "```"
   ],
   "metadata": {}
  },
  {
   "outputs": [],
   "cell_type": "code",
   "source": [
    "table_path = \"pdb_chain_taxonomy.tsv\"\n",
    "\n",
    "df = CSV.read(table_path,\n",
    "    header = 2,  ## the header is in the second line\n",
    "    delim = '\\t',  ## delimiter is TAB instead of ','\n",
    "    quotechar='`'  ## file don't use \"\" to quote, e.g.: \"Bacillus coli\" Migula 1895\n",
    "    )\n",
    "# ### Examples\n",
    "#\n",
    "# Select human PDB chains:\n",
    "df[:TAX_ID] .== 9606"
   ],
   "metadata": {},
   "execution_count": null
  },
  {
   "outputs": [],
   "cell_type": "code",
   "source": [
    "df[df[:TAX_ID] .== 9606, [:PDB, :CHAIN]] |> unique"
   ],
   "metadata": {},
   "execution_count": null
  },
  {
   "outputs": [],
   "cell_type": "markdown",
   "source": [
    "You can use `|>` for easy function chaining.\n",
    "\n",
    "What are the species with more PDB chains?"
   ],
   "metadata": {}
  },
  {
   "outputs": [],
   "cell_type": "code",
   "source": [
    "count_df = by(df, :TAX_ID, Count = :TAX_ID => length)\n",
    "sort!(count_df, :Count, rev=true)"
   ],
   "metadata": {},
   "execution_count": null
  },
  {
   "outputs": [],
   "cell_type": "markdown",
   "source": [
    "#### Exercise 1\n",
    "\n",
    "What are the species with more PDBs (not PDB chains)?\n",
    "\n",
    "**Hint:** You can use\n",
    "[anonymous functions](https://docs.julialang.org/en/v1/manual/functions/index.html#man-anonymous-functions-1):"
   ],
   "metadata": {}
  },
  {
   "outputs": [],
   "cell_type": "code",
   "source": [
    "f(x) = 2x + 1\n",
    "g(x) = sin(π*x)"
   ],
   "metadata": {},
   "execution_count": null
  },
  {
   "outputs": [],
   "cell_type": "code",
   "source": [
    "x -> f(g(x))"
   ],
   "metadata": {},
   "execution_count": null
  },
  {
   "outputs": [],
   "cell_type": "markdown",
   "source": [
    "or function composition (using `∘`, `\\circ<TAB>`):"
   ],
   "metadata": {}
  },
  {
   "outputs": [],
   "cell_type": "code",
   "source": [
    "f ∘ g"
   ],
   "metadata": {},
   "execution_count": null
  },
  {
   "outputs": [],
   "cell_type": "code",
   "source": [
    "# ...your solution..."
   ],
   "metadata": {},
   "execution_count": null
  },
  {
   "outputs": [],
   "cell_type": "markdown",
   "source": [
    "## Plots\n",
    "\n",
    "They are multiple plotting packages in Julia. Here I will show\n",
    "[StatsPlots](https://github.com/JuliaPlots/StatsPlots.jl), an extension of\n",
    "[Plots](docs.juliaplots.org/latest/) for statistical plotting.\n",
    "However, if you love the grammar of graphics, you will be more comfortable\n",
    "with [Gadfly](https://github.com/GiovineItalia/Gadfly.jl)."
   ],
   "metadata": {}
  },
  {
   "outputs": [],
   "cell_type": "code",
   "source": [
    "using StatsPlots"
   ],
   "metadata": {},
   "execution_count": null
  },
  {
   "outputs": [],
   "cell_type": "code",
   "source": [
    "@df count_df bar(:TAX_ID, :Count)"
   ],
   "metadata": {},
   "execution_count": null
  },
  {
   "outputs": [],
   "cell_type": "code",
   "source": [
    "@df count_df marginalhist(:TAX_ID, :Count)"
   ],
   "metadata": {},
   "execution_count": null
  },
  {
   "outputs": [],
   "cell_type": "code",
   "source": [
    "@df count_df violin(:Count)"
   ],
   "metadata": {},
   "execution_count": null
  },
  {
   "outputs": [],
   "cell_type": "code",
   "source": [
    "@df count_df boxplot!([1.0], :Count, bar_width=0.1)"
   ],
   "metadata": {},
   "execution_count": null
  },
  {
   "outputs": [],
   "cell_type": "markdown",
   "source": [
    "#### Exercise 2\n",
    "\n",
    "Do a histogram and a density plot of the variable `:Count`.\n",
    "Hint: Use `normalize=true`"
   ],
   "metadata": {}
  },
  {
   "outputs": [],
   "cell_type": "markdown",
   "source": [
    "*This notebook was generated using [Literate.jl](https://github.com/fredrikekre/Literate.jl).*"
   ],
   "metadata": {}
  }
 ],
 "nbformat_minor": 3,
 "metadata": {
  "language_info": {
   "file_extension": ".jl",
   "mimetype": "application/julia",
   "name": "julia",
   "version": "1.0.3"
  },
  "kernelspec": {
   "name": "julia-1.0",
   "display_name": "Julia 1.0.3",
   "language": "julia"
  }
 },
 "nbformat": 4
}
