{
 "cells": [
  {
   "outputs": [],
   "cell_type": "markdown",
   "source": [
    "# Introduction\n",
    "\n",
    "\n",
    "Let's start with a classic:"
   ],
   "metadata": {}
  },
  {
   "outputs": [],
   "cell_type": "code",
   "source": [
    "message = \"Hello World!\""
   ],
   "metadata": {},
   "execution_count": null
  },
  {
   "outputs": [],
   "cell_type": "code",
   "source": [
    "println(message)"
   ],
   "metadata": {},
   "execution_count": null
  },
  {
   "outputs": [],
   "cell_type": "markdown",
   "source": [
    "Julia is a general purpose programming language designed with scientific\n",
    "computing and mathematics in mind. For this reason, some Julia expressions\n",
    "look like mathematics.\n",
    "\n",
    "For example, let's write a Julia function to calculate\n",
    "a circle’s circumference $C$ as a function of the radius $r$:\n",
    "\n",
    "$C = 2 \\pi r$"
   ],
   "metadata": {}
  },
  {
   "outputs": [],
   "cell_type": "code",
   "source": [
    "r = 10\n",
    "\n",
    "C = 2π*r"
   ],
   "metadata": {},
   "execution_count": null
  },
  {
   "outputs": [],
   "cell_type": "markdown",
   "source": [
    "`π` is one of the\n",
    "[mathematical constants](https://docs.julialang.org/en/v1.1/base/numbers/#General-Number-Functions-and-Constants-1)\n",
    "defined in Julia. You can write `π` by typing `\\pi` and pressing `<TAB>` in\n",
    "the REPL:"
   ],
   "metadata": {}
  },
  {
   "outputs": [],
   "cell_type": "code",
   "source": [
    "π"
   ],
   "metadata": {},
   "execution_count": null
  },
  {
   "outputs": [],
   "cell_type": "code",
   "source": [
    "pi"
   ],
   "metadata": {},
   "execution_count": null
  },
  {
   "outputs": [],
   "cell_type": "markdown",
   "source": [
    "The multiplication operator `*` is not needed when a literal number\n",
    "(e.g. `2`) is placed just before a variable or constant (e.g. `π`),\n",
    "see [*Numeric Literal Coefficients*](https://docs.julialang.org/en/v1.1/manual/integers-and-floating-point-numbers/#man-numeric-literal-coefficients-1).\n",
    "That makes polynomial expressions much cleaner:"
   ],
   "metadata": {}
  },
  {
   "outputs": [],
   "cell_type": "code",
   "source": [
    "f(x) = 1.56 + 2.24x + 3.47x^2"
   ],
   "metadata": {},
   "execution_count": null
  },
  {
   "outputs": [],
   "cell_type": "code",
   "source": [
    "f(0.04)"
   ],
   "metadata": {},
   "execution_count": null
  },
  {
   "outputs": [],
   "cell_type": "markdown",
   "source": [
    "This one-line function definition, i.e. `function_name(arguments) = body`, is\n",
    "the simplest we can use in Julia."
   ],
   "metadata": {}
  },
  {
   "outputs": [],
   "cell_type": "markdown",
   "source": [
    "#### Exercise 1\n",
    "\n",
    "Define an one-line function to calculate the length of the  hypotenuse of a\n",
    "right-angled triangle with catheti (legs) $a$ and $b$ as\n",
    "$\\sqrt{a^{2} + b^{2}}$ using the `sqrt()` function:"
   ],
   "metadata": {}
  },
  {
   "outputs": [],
   "cell_type": "code",
   "source": [
    "# hypotenuse(..."
   ],
   "metadata": {},
   "execution_count": null
  },
  {
   "outputs": [],
   "cell_type": "markdown",
   "source": [
    "If your solution is correct, the following test should pass without errors."
   ],
   "metadata": {}
  },
  {
   "outputs": [],
   "cell_type": "code",
   "source": [
    "using Test"
   ],
   "metadata": {},
   "execution_count": null
  },
  {
   "outputs": [],
   "cell_type": "markdown",
   "source": [
    "The `Test` module exports the `@test` macro, useful for writing unit tests of\n",
    "the code. We are going to use `≈`, `\\approx<TAB>`, (`a ≈ b` or\n",
    "`isapprox(a, b)`) test if two values can be equal taking into account\n",
    "floating point errors. :"
   ],
   "metadata": {}
  },
  {
   "outputs": [],
   "cell_type": "code",
   "source": [
    "@test hypotenuse(2, 5) ≈ hypot(2, 5)"
   ],
   "metadata": {},
   "execution_count": null
  },
  {
   "outputs": [],
   "cell_type": "markdown",
   "source": [
    "In real life, you can use the function `hypot` to avoid\n",
    "[underflow and overflow problems](https://www.johndcook.com/blog/2010/06/02/whats-so-hard-about-finding-a-hypotenuse/)."
   ],
   "metadata": {}
  },
  {
   "outputs": [],
   "cell_type": "markdown",
   "source": [
    "## Control Flow\n",
    "\n",
    "### `if`"
   ],
   "metadata": {}
  },
  {
   "outputs": [],
   "cell_type": "code",
   "source": [
    "distance = hypot(1.0, 3.0, 2.5)"
   ],
   "metadata": {},
   "execution_count": null
  },
  {
   "outputs": [],
   "cell_type": "code",
   "source": [
    "if distance <= 2.08  # Å\n",
    "    \"Disulphide\"\n",
    "elseif distance <= 6  # Å\n",
    "    \"Contact\"\n",
    "else\n",
    "    \"Not interacting\"\n",
    "end"
   ],
   "metadata": {},
   "execution_count": null
  },
  {
   "outputs": [],
   "cell_type": "markdown",
   "source": [
    "Each condition should be a boolean variable (`true` or `false`) or an\n",
    "expression that evaluates to a boolean value."
   ],
   "metadata": {}
  },
  {
   "outputs": [],
   "cell_type": "markdown",
   "source": [
    "### Short-circuit evaluation"
   ],
   "metadata": {}
  },
  {
   "outputs": [],
   "cell_type": "code",
   "source": [
    "condition = true\n",
    "condition && println(\"It's true!\")"
   ],
   "metadata": {},
   "execution_count": null
  },
  {
   "outputs": [],
   "cell_type": "markdown",
   "source": [
    "#### Exercise 2\n",
    "\n",
    "Can you write the equivalent expression using `if` ?"
   ],
   "metadata": {}
  },
  {
   "outputs": [],
   "cell_type": "code",
   "source": [
    "# if ..."
   ],
   "metadata": {},
   "execution_count": null
  },
  {
   "outputs": [],
   "cell_type": "markdown",
   "source": [
    "### Ternary operator"
   ],
   "metadata": {}
  },
  {
   "outputs": [],
   "cell_type": "code",
   "source": [
    "condition = true\n",
    "result = condition ? \"👍\" : \"👎\""
   ],
   "metadata": {},
   "execution_count": null
  },
  {
   "outputs": [],
   "cell_type": "markdown",
   "source": [
    "This is equivalent to:"
   ],
   "metadata": {}
  },
  {
   "outputs": [],
   "cell_type": "code",
   "source": [
    "result = if condition\n",
    "        \"👍\"\n",
    "    else\n",
    "        \"👎\"\n",
    "end"
   ],
   "metadata": {},
   "execution_count": null
  },
  {
   "outputs": [],
   "cell_type": "code",
   "source": [
    "result"
   ],
   "metadata": {},
   "execution_count": null
  },
  {
   "outputs": [],
   "cell_type": "markdown",
   "source": [
    "## `for` loops"
   ],
   "metadata": {}
  },
  {
   "outputs": [],
   "cell_type": "code",
   "source": [
    "dna = \"ATGCAT\"  # dna is a string\n",
    "\n",
    "for base in dna\n",
    "    println(base)  # base is a character\n",
    "end"
   ],
   "metadata": {},
   "execution_count": null
  },
  {
   "outputs": [],
   "cell_type": "markdown",
   "source": [
    "`for base = dna` and `for base ∈ dna` are also a possible notations, i.e.\n",
    "using `=` or `∈` instead of `in`:"
   ],
   "metadata": {}
  },
  {
   "outputs": [],
   "cell_type": "code",
   "source": [
    "for base ∈ dna\n",
    "    println(base)\n",
    "end"
   ],
   "metadata": {},
   "execution_count": null
  },
  {
   "outputs": [],
   "cell_type": "markdown",
   "source": [
    "Julia has a nice unicode support and unicode characters can be used in\n",
    "variables names, operators, etc. You can write `∈` in the REPL by typing `\\in`\n",
    "and pressing the `<TAB>` key."
   ],
   "metadata": {}
  },
  {
   "outputs": [],
   "cell_type": "markdown",
   "source": [
    "## Functions\n",
    "\n",
    "### One-line syntax"
   ],
   "metadata": {}
  },
  {
   "outputs": [],
   "cell_type": "code",
   "source": [
    "\"Return the number of codons in the sequence.\"\n",
    "codon_number(seq) = div(length(seq), 3) # This is a Julia comment"
   ],
   "metadata": {},
   "execution_count": null
  },
  {
   "outputs": [],
   "cell_type": "markdown",
   "source": [
    "A strings before the function declaration is used as docstring. You can access\n",
    "the function documentation by typing `?` in the REPL and the name of the\n",
    "function, e.g.: `?codon_number`"
   ],
   "metadata": {}
  },
  {
   "outputs": [],
   "cell_type": "code",
   "source": [
    "# Try to look at the documentation of condon_number"
   ],
   "metadata": {},
   "execution_count": null
  },
  {
   "outputs": [],
   "cell_type": "code",
   "source": [
    "codon_number(dna)"
   ],
   "metadata": {},
   "execution_count": null
  },
  {
   "outputs": [],
   "cell_type": "markdown",
   "source": [
    "### Multi-line syntax"
   ],
   "metadata": {}
  },
  {
   "outputs": [],
   "cell_type": "markdown",
   "source": [
    "Functions with longer bodies are defined using the `function` keyword:"
   ],
   "metadata": {}
  },
  {
   "outputs": [],
   "cell_type": "code",
   "source": [
    "\"Returns the GC number in a given sequence.\"\n",
    "function count_gc(string)\n",
    "    count = 0\n",
    "    for char in string\n",
    "        if char == 'C' || char == 'G'  # || is the short-circuiting or.\n",
    "            # ' ' (instead of \" \") is used to define a character.\n",
    "            count += 1  # i.e. count = count + 1\n",
    "        end\n",
    "    end\n",
    "    count  # i.e. return count\n",
    "end"
   ],
   "metadata": {},
   "execution_count": null
  },
  {
   "outputs": [],
   "cell_type": "code",
   "source": [
    "count_gc(dna)"
   ],
   "metadata": {},
   "execution_count": null
  },
  {
   "outputs": [],
   "cell_type": "markdown",
   "source": [
    "By default, a function returns the result of the last evaluated expression,\n",
    "`count` in the previous example. Otherwise, the keyword `return` should be\n",
    "used:"
   ],
   "metadata": {}
  },
  {
   "outputs": [],
   "cell_type": "code",
   "source": [
    "\"\"\"\n",
    "`is_dna` iterates a string and returns:\n",
    "- `false` if a character different from **A, C, T or G** is found\n",
    "- `true` otherwise\n",
    "\"\"\"\n",
    "function is_dna(string)\n",
    "    for char in string\n",
    "        if char != 'A' && char != 'C' && char != 'T' && char != 'G'\n",
    "            return false\n",
    "        end\n",
    "    end\n",
    "    true\n",
    "end"
   ],
   "metadata": {},
   "execution_count": null
  },
  {
   "outputs": [],
   "cell_type": "code",
   "source": [
    "is_dna(\"ACHL\")"
   ],
   "metadata": {},
   "execution_count": null
  },
  {
   "outputs": [],
   "cell_type": "markdown",
   "source": [
    "Here, the `return` keyword is used inside the loop to return `false` as soon\n",
    "as an incorrect character is found.\n",
    "\n",
    "`\"\"\"` defines multiline strings. In this example, the multiline string is the\n",
    "documentation string of the function. Markdown syntax can be used in\n",
    "docstrings."
   ],
   "metadata": {}
  },
  {
   "outputs": [],
   "cell_type": "code",
   "source": [
    "?is_dna"
   ],
   "metadata": {},
   "execution_count": null
  },
  {
   "outputs": [],
   "cell_type": "markdown",
   "source": [
    "#### Exercise 3\n",
    "\n",
    "Write a function that returns `true` if the given string (argument) has at\n",
    "least one `N` using the keywords `function`, `for`, `if` and `return`."
   ],
   "metadata": {}
  },
  {
   "outputs": [],
   "cell_type": "code",
   "source": [
    "# has_n(..."
   ],
   "metadata": {},
   "execution_count": null
  },
  {
   "outputs": [],
   "cell_type": "markdown",
   "source": [
    "`@testset` is useful to aggregate tests for a particular functionality:"
   ],
   "metadata": {}
  },
  {
   "outputs": [],
   "cell_type": "code",
   "source": [
    "using Test\n",
    "@testset \"Exercise 3\" begin\n",
    "    @test has_n(\"ACTGN\")\n",
    "    @test !has_n(\"ACTG\")\n",
    "end"
   ],
   "metadata": {},
   "execution_count": null
  },
  {
   "outputs": [],
   "cell_type": "markdown",
   "source": [
    "#### Material\n",
    "\n",
    "You can find more complete information about\n",
    "[functions](https://docs.julialang.org/en/v1.1/manual/functions/)\n",
    "and [control flow](https://docs.julialang.org/en/v1.1/manual/control-flow/)\n",
    "statements in the Julia manual."
   ],
   "metadata": {}
  },
  {
   "outputs": [],
   "cell_type": "markdown",
   "source": [
    "*This notebook was generated using [Literate.jl](https://github.com/fredrikekre/Literate.jl).*"
   ],
   "metadata": {}
  }
 ],
 "nbformat_minor": 3,
 "metadata": {
  "language_info": {
   "file_extension": ".jl",
   "mimetype": "application/julia",
   "name": "julia",
   "version": "1.0.3"
  },
  "kernelspec": {
   "name": "julia-1.0",
   "display_name": "Julia 1.0.3",
   "language": "julia"
  }
 },
 "nbformat": 4
}
