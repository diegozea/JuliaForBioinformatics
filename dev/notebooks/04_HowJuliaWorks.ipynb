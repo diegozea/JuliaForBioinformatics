{
 "cells": [
  {
   "outputs": [],
   "cell_type": "markdown",
   "source": [
    "# How Julia works?\n",
    "\n",
    "\n",
    "## Type system\n",
    "\n",
    "Until now, we have not used type annotations, but Julia has a rich type system.\n",
    "Julia is an optionally- and dynamically-typed programming language. That means\n",
    "that you can change the type of a variable..."
   ],
   "metadata": {}
  },
  {
   "outputs": [],
   "cell_type": "code",
   "source": [
    "a = 10\n",
    "typeof(a)"
   ],
   "metadata": {},
   "execution_count": null
  },
  {
   "outputs": [],
   "cell_type": "code",
   "source": [
    "a = true\n",
    "typeof(a)"
   ],
   "metadata": {},
   "execution_count": null
  },
  {
   "outputs": [],
   "cell_type": "markdown",
   "source": [
    "... and that type annotations are optional. You can use type annotations to:\n",
    " - make a program more robust (type checking)"
   ],
   "metadata": {}
  },
  {
   "outputs": [],
   "cell_type": "code",
   "source": [
    "a::Bool # type assertion"
   ],
   "metadata": {},
   "execution_count": null
  },
  {
   "outputs": [],
   "cell_type": "code",
   "source": [
    "a::Int"
   ],
   "metadata": {},
   "execution_count": null
  },
  {
   "outputs": [],
   "cell_type": "markdown",
   "source": [
    " - optimize code by giving a hint to the compiler\n",
    " - documment the code and use multiple dispatch"
   ],
   "metadata": {}
  },
  {
   "outputs": [],
   "cell_type": "code",
   "source": [
    "# function_name(arg::ArgumentType)::ReturnType = function_body\n",
    "first_character(str::AbstractString)::Char = str[1]"
   ],
   "metadata": {},
   "execution_count": null
  },
  {
   "outputs": [],
   "cell_type": "code",
   "source": [
    "character = first_character(\"ABC\")"
   ],
   "metadata": {},
   "execution_count": null
  },
  {
   "outputs": [],
   "cell_type": "code",
   "source": [
    "character = first_character(10_000)"
   ],
   "metadata": {},
   "execution_count": null
  },
  {
   "outputs": [],
   "cell_type": "markdown",
   "source": [
    "### Type hierarchy\n",
    "\n",
    "Any Julia object has a type that belongs to a fully connected type graph.\n",
    "There are abstract and concrete types. Concrete types are final, i.e. they\n",
    "cannot have subtypes, while abstract types can have multiple subtypes but\n",
    "only one supertype."
   ],
   "metadata": {}
  },
  {
   "outputs": [],
   "cell_type": "code",
   "source": [
    "using JuliaForBioinformatics\n",
    "show_type_tree(Number)"
   ],
   "metadata": {},
   "execution_count": null
  },
  {
   "outputs": [],
   "cell_type": "markdown",
   "source": [
    "In Julia, all values are instances of the abstract type `Any`.\n",
    "\n",
    "The functions supertype and subtypes are useful to navegate the type graph."
   ],
   "metadata": {}
  },
  {
   "outputs": [],
   "cell_type": "code",
   "source": [
    "supertype(Real)"
   ],
   "metadata": {},
   "execution_count": null
  },
  {
   "outputs": [],
   "cell_type": "code",
   "source": [
    "subtypes(Real)"
   ],
   "metadata": {},
   "execution_count": null
  },
  {
   "outputs": [],
   "cell_type": "markdown",
   "source": [
    "You can use `isa` to test if an object is of a given type"
   ],
   "metadata": {}
  },
  {
   "outputs": [],
   "cell_type": "code",
   "source": [
    "isa(\"I'm a string\", String)"
   ],
   "metadata": {},
   "execution_count": null
  },
  {
   "outputs": [],
   "cell_type": "markdown",
   "source": [
    "And the subtype operator `<:` to test if a type is a subtype of another"
   ],
   "metadata": {}
  },
  {
   "outputs": [],
   "cell_type": "code",
   "source": [
    "String <: AbstractString"
   ],
   "metadata": {},
   "execution_count": null
  },
  {
   "outputs": [],
   "cell_type": "markdown",
   "source": [
    "You can also use `Union` of types, for example, if the possible types don't\n",
    "share a meaningful supertype"
   ],
   "metadata": {}
  },
  {
   "outputs": [],
   "cell_type": "code",
   "source": [
    "String <: Union{AbstractString, AbstractChar}"
   ],
   "metadata": {},
   "execution_count": null
  },
  {
   "outputs": [],
   "cell_type": "markdown",
   "source": [
    "### Multiple dispatch\n",
    "\n",
    "We can define multiple [methods](https://docs.julialang.org/en/v1/manual/methods/#Methods-1)\n",
    "for a function by using different method signatures by indicating the argument\n",
    "types using `::` or `<:`.\n",
    "\n",
    "For example we are going to define 3 methods for the function `say_my_type`:"
   ],
   "metadata": {}
  },
  {
   "outputs": [],
   "cell_type": "code",
   "source": [
    "say_my_type(x) = println(x, \" is a \", typeof(x))\n",
    "# say_my_type(x) is the same that say_my_type(x::Any)\n",
    "\n",
    "say_my_type(x::Real) = println(x, \" is a Real number of type \",  typeof(x))\n",
    "say_my_type(x::Float64) = println(x, \" is a Float64 number\")"
   ],
   "metadata": {},
   "execution_count": null
  },
  {
   "outputs": [],
   "cell_type": "markdown",
   "source": [
    "When the function is called, Julia selects the method with the most specific\n",
    "method signature."
   ],
   "metadata": {}
  },
  {
   "outputs": [],
   "cell_type": "code",
   "source": [
    "say_my_type('A') # 'A' is a Char, a subtype of Any\n",
    "say_my_type(2) # 2 is an Int, a subtype of Real\n",
    "say_my_type(2.0)"
   ],
   "metadata": {},
   "execution_count": null
  },
  {
   "outputs": [],
   "cell_type": "markdown",
   "source": [
    "`say_my_type(x::Real)` can also be written using the `where` keyword as"
   ],
   "metadata": {}
  },
  {
   "outputs": [],
   "cell_type": "code",
   "source": [
    "say_my_type(x::T) where {T <: Real} = println(x, \" is a Real number of type \",  T)"
   ],
   "metadata": {},
   "execution_count": null
  },
  {
   "outputs": [],
   "cell_type": "markdown",
   "source": [
    "### Parametric types\n",
    "\n",
    "Julia types can have parameters. We have already used parametric types, one\n",
    "of them is Array:"
   ],
   "metadata": {}
  },
  {
   "outputs": [],
   "cell_type": "code",
   "source": [
    "cube = zeros(Int, 3, 3, 3)\n",
    "typeof(cube)"
   ],
   "metadata": {},
   "execution_count": null
  },
  {
   "outputs": [],
   "cell_type": "markdown",
   "source": [
    "Julia Arrays take two parameters, the type of the elements stored in the array\n",
    "and the array dimensions.\n",
    "\n",
    "This allows to write specific methods depending on those parameters"
   ],
   "metadata": {}
  },
  {
   "outputs": [],
   "cell_type": "code",
   "source": [
    "say_my_type(x::Array{T, 1}) where {T} = println(x, \" is vector with \",  T, \" elements\")\n",
    "say_my_type(x::Array{T, 2}) where {T} = println(x, \" is matrix with \",  T, \" elements\")"
   ],
   "metadata": {},
   "execution_count": null
  },
  {
   "outputs": [],
   "cell_type": "code",
   "source": [
    "say_my_type(Rational[0.5, 1, 1.5])\n",
    "say_my_type(Float64[1 3 5; 2 4 6])"
   ],
   "metadata": {},
   "execution_count": null
  },
  {
   "outputs": [],
   "cell_type": "markdown",
   "source": [
    "#### Exercise 1\n",
    "\n",
    "Add a method to `say_my_type` that prints the number of unique values of an\n",
    "array of characters or strings and its dimensions."
   ],
   "metadata": {}
  },
  {
   "outputs": [],
   "cell_type": "code",
   "source": [
    "# ... text array with ... dimensions and ... unique values ..."
   ],
   "metadata": {},
   "execution_count": null
  },
  {
   "outputs": [],
   "cell_type": "markdown",
   "source": [
    "### Julia compiler\n",
    "\n",
    "![](JuliaCompiler.png)\n",
    "TODO:\n",
    "https://slides.com/valentinchuravy/julia-parallelism#/\n",
    "https://github.com/diegozea/ADayWithJulia\n",
    "https://nbviewer.jupyter.org/github/diegozea/DesarrollandoEnJulia/blob/617bd1bf6481450222dcf919004dd266a2dfcc36/notebooks/Desarrollo%20de%20paquetes%20en%20el%20lenguaje%20Julia.ipynb"
   ],
   "metadata": {}
  },
  {
   "outputs": [],
   "cell_type": "code",
   "source": [
    "dump(character) # dump shows every part of a value representation"
   ],
   "metadata": {},
   "execution_count": null
  },
  {
   "outputs": [],
   "cell_type": "markdown",
   "source": [
    "*This notebook was generated using [Literate.jl](https://github.com/fredrikekre/Literate.jl).*"
   ],
   "metadata": {}
  }
 ],
 "nbformat_minor": 3,
 "metadata": {
  "language_info": {
   "file_extension": ".jl",
   "mimetype": "application/julia",
   "name": "julia",
   "version": "1.0.3"
  },
  "kernelspec": {
   "name": "julia-1.0",
   "display_name": "Julia 1.0.3",
   "language": "julia"
  }
 },
 "nbformat": 4
}
