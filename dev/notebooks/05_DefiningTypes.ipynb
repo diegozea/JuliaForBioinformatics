{
 "cells": [
  {
   "outputs": [],
   "cell_type": "markdown",
   "source": [
    "# Defining your own types\n",
    "\n",
    "\n",
    "Julia user-defined types are as fast as built-in types. They are easy to\n",
    "define:"
   ],
   "metadata": {}
  },
  {
   "outputs": [],
   "cell_type": "code",
   "source": [
    "abstract type AbstractFeature end"
   ],
   "metadata": {},
   "execution_count": null
  },
  {
   "outputs": [],
   "cell_type": "code",
   "source": [
    "struct Exon{T} <: AbstractFeature where {T <: Integer}\n",
    "\tstart::T\n",
    "\tstop::T\n",
    "end"
   ],
   "metadata": {},
   "execution_count": null
  },
  {
   "outputs": [],
   "cell_type": "code",
   "source": [
    "Exon(5, 10)"
   ],
   "metadata": {},
   "execution_count": null
  },
  {
   "outputs": [],
   "cell_type": "code",
   "source": [
    "mutable struct MessengerRNA\n",
    "\tsequence::Vector{Char}\n",
    "\texons::Vector{Exon}\n",
    "\tpresent::Vector{Bool}\n",
    "end"
   ],
   "metadata": {},
   "execution_count": null
  },
  {
   "outputs": [],
   "cell_type": "code",
   "source": [
    "mRNA = MessengerRNA(collect(\"ACTGTTGCATTGCAATTTAAGCAATGGCAAATAACATA\"),\n",
    "\t\t\t\t\t[Exon(5,10), Exon(20,28), Exon(30,34)],\n",
    "\t\t\t\t\t[true, false, true])"
   ],
   "metadata": {},
   "execution_count": null
  },
  {
   "outputs": [],
   "cell_type": "markdown",
   "source": [
    "You can access type fields using a dot:"
   ],
   "metadata": {}
  },
  {
   "outputs": [],
   "cell_type": "code",
   "source": [
    "mRNA.exons"
   ],
   "metadata": {},
   "execution_count": null
  },
  {
   "outputs": [],
   "cell_type": "markdown",
   "source": [
    "#### Exercise 1\n",
    "\n",
    "Define a function that takes a MessengerRNA object and return a list with the\n",
    "sequences (as strings) of the exons present in the transcript, i.e.\n",
    "`[\"TTGCAT\", \"AATAA\"]`"
   ],
   "metadata": {}
  },
  {
   "outputs": [],
   "cell_type": "code",
   "source": [
    "# ... your function here ..."
   ],
   "metadata": {},
   "execution_count": null
  },
  {
   "outputs": [],
   "cell_type": "markdown",
   "source": [
    "*This notebook was generated using [Literate.jl](https://github.com/fredrikekre/Literate.jl).*"
   ],
   "metadata": {}
  }
 ],
 "nbformat_minor": 3,
 "metadata": {
  "language_info": {
   "file_extension": ".jl",
   "mimetype": "application/julia",
   "name": "julia",
   "version": "1.0.3"
  },
  "kernelspec": {
   "name": "julia-1.0",
   "display_name": "Julia 1.0.3",
   "language": "julia"
  }
 },
 "nbformat": 4
}
