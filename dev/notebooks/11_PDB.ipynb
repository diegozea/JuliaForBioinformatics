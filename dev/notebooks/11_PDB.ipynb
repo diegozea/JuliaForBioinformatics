{
 "cells": [
  {
   "outputs": [],
   "cell_type": "markdown",
   "source": [
    "# MSA and structures\n",
    "\n",
    "\n",
    "For this example, we use the Multiple Sequence Alignment (MSA) of the\n",
    "*Mu DNA-binding domain*."
   ],
   "metadata": {}
  },
  {
   "outputs": [],
   "cell_type": "code",
   "source": [
    "using MIToS.Pfam\n",
    "using MIToS.MSA\n",
    "\n",
    "const pfam_file = downloadpfam(\"PF02316\")\n",
    "const msa = read(pfam_file,\n",
    "\t\t\t\t Stockholm,\n",
    "\t\t\t\t generatemapping=true,\n",
    "\t\t\t\t useidcoordinates=true)"
   ],
   "metadata": {},
   "execution_count": null
  },
  {
   "outputs": [],
   "cell_type": "markdown",
   "source": [
    "We use the `getseq2pdb` function to look into the Pfam annotations for PDBs:"
   ],
   "metadata": {}
  },
  {
   "outputs": [],
   "cell_type": "code",
   "source": [
    "const seq2pdb = getseq2pdb(msa)"
   ],
   "metadata": {},
   "execution_count": null
  },
  {
   "outputs": [],
   "cell_type": "markdown",
   "source": [
    "For this example, we use the crystallographic structure 4FCY..."
   ],
   "metadata": {}
  },
  {
   "outputs": [],
   "cell_type": "code",
   "source": [
    "selected = [ (seq, pdb, chain) for (seq, pdbs) in seq2pdb\n",
    "\t\t\t\tfor (pdb, chain) in pdbs if pdb == \"4FCY\" ]"
   ],
   "metadata": {},
   "execution_count": null
  },
  {
   "outputs": [],
   "cell_type": "markdown",
   "source": [
    "...and we take the first one"
   ],
   "metadata": {}
  },
  {
   "outputs": [],
   "cell_type": "code",
   "source": [
    "seq_id, pdb_id, chain = selected[1]"
   ],
   "metadata": {},
   "execution_count": null
  },
  {
   "outputs": [],
   "cell_type": "markdown",
   "source": [
    "We download and read the PDB file"
   ],
   "metadata": {}
  },
  {
   "outputs": [],
   "cell_type": "code",
   "source": [
    "using MIToS.PDB\n",
    "pdb_file = downloadpdb(pdb_id, format=PDBFile)"
   ],
   "metadata": {},
   "execution_count": null
  },
  {
   "outputs": [],
   "cell_type": "code",
   "source": [
    "const pdb_res = read(pdb_file, PDBFile)"
   ],
   "metadata": {},
   "execution_count": null
  },
  {
   "outputs": [],
   "cell_type": "markdown",
   "source": [
    "Each PDBResidue contains the information in the ATOM and HETATM PDB lines:"
   ],
   "metadata": {}
  },
  {
   "outputs": [],
   "cell_type": "code",
   "source": [
    "first_residue = pdb_res[1]"
   ],
   "metadata": {},
   "execution_count": null
  },
  {
   "outputs": [],
   "cell_type": "markdown",
   "source": [
    "You can access the information by accessing the field names:"
   ],
   "metadata": {}
  },
  {
   "outputs": [],
   "cell_type": "code",
   "source": [
    "first_residue.id.name"
   ],
   "metadata": {},
   "execution_count": null
  },
  {
   "outputs": [],
   "cell_type": "markdown",
   "source": [
    "#### Exercise 1\n",
    "4\n",
    "\n",
    "How many missing residues are in the chain A"
   ],
   "metadata": {}
  },
  {
   "outputs": [],
   "cell_type": "markdown",
   "source": [
    "How many chains are in the PDB?\n",
    "\n",
    "**Hint:** You can use `Set` or `unique`"
   ],
   "metadata": {}
  },
  {
   "outputs": [],
   "cell_type": "markdown",
   "source": [
    "There are 5 chains: A, B, C, D, E"
   ],
   "metadata": {}
  },
  {
   "outputs": [],
   "cell_type": "markdown",
   "source": [
    "## Distances and contacts\n",
    "\n",
    "MIToS PDB module has functions to measure distance between residues and\n",
    "identify contacts:"
   ],
   "metadata": {}
  },
  {
   "outputs": [],
   "cell_type": "code",
   "source": [
    "res_i = pdb_res[1]\n",
    "res_j = pdb_res[4]\n",
    "distance(res_i, res_j)"
   ],
   "metadata": {},
   "execution_count": null
  },
  {
   "outputs": [],
   "cell_type": "markdown",
   "source": [
    "`contact(i, j, threshold)` is faster than `distance(i, j) < threshold`"
   ],
   "metadata": {}
  },
  {
   "outputs": [],
   "cell_type": "code",
   "source": [
    "contact(res_i, res_j, 8.0)"
   ],
   "metadata": {},
   "execution_count": null
  },
  {
   "outputs": [],
   "cell_type": "markdown",
   "source": [
    "`distance` and `contact` can take a `criteria` keyword argument with one of\n",
    "the following values: `Heavy`, `All`, `CA`, `CB` (it uses `CA` for `GLY`)."
   ],
   "metadata": {}
  },
  {
   "outputs": [],
   "cell_type": "code",
   "source": [
    "distance(res_i, res_j, criteria=\"CB\")"
   ],
   "metadata": {},
   "execution_count": null
  },
  {
   "outputs": [],
   "cell_type": "markdown",
   "source": [
    "### Exercise 2\n",
    "4\n",
    "\n",
    "How many missing residues are in the chain A"
   ],
   "metadata": {}
  },
  {
   "outputs": [],
   "cell_type": "markdown",
   "source": [
    "Write a function that returns the `Set` of residues in the first vector that\n",
    "are in contact with the residues in the second vector:"
   ],
   "metadata": {}
  },
  {
   "outputs": [],
   "cell_type": "code",
   "source": [
    "function get_contacts(residues_i, residues_j; threshold::Float64=8.0)\n",
    "\tresult = Set{PDBResidue}()\n",
    "#   ...your code here...\n",
    "\tresult\n",
    "end"
   ],
   "metadata": {},
   "execution_count": null
  },
  {
   "outputs": [],
   "cell_type": "code",
   "source": [
    "using Test\n",
    "@test get_contacts(pdb_res[[1, end]], pdb_res[2:3], threshold=6.0) == Set([pdb_res[1]])"
   ],
   "metadata": {},
   "execution_count": null
  },
  {
   "outputs": [],
   "cell_type": "markdown",
   "source": [
    "### Exercise 3\n",
    "4\n",
    "\n",
    "How many missing residues are in the chain A"
   ],
   "metadata": {}
  },
  {
   "outputs": [],
   "cell_type": "markdown",
   "source": [
    "Use the `get_contacts` function to get all the residues from the chain A\n",
    "(protein) that are in contact with the chains C, D and E (DNA)."
   ],
   "metadata": {}
  },
  {
   "outputs": [],
   "cell_type": "code",
   "source": [
    "# ...your solution..."
   ],
   "metadata": {},
   "execution_count": null
  },
  {
   "outputs": [],
   "cell_type": "markdown",
   "source": [
    "## PDB Plots\n",
    "\n",
    "You can use Plots to get an idea of where your residues are:"
   ],
   "metadata": {}
  },
  {
   "outputs": [],
   "cell_type": "code",
   "source": [
    "using Plots\n",
    "plotlyjs()"
   ],
   "metadata": {},
   "execution_count": null
  },
  {
   "outputs": [],
   "cell_type": "code",
   "source": [
    "plot(pdb_res)"
   ],
   "metadata": {},
   "execution_count": null
  },
  {
   "outputs": [],
   "cell_type": "markdown",
   "source": [
    "Or use Bio3DView to get an interactive view (but we need to save the residues\n",
    "in an uncompressed PDB file first):"
   ],
   "metadata": {}
  },
  {
   "outputs": [],
   "cell_type": "code",
   "source": [
    "write(\"selected_residues.pdb\", pdb_res, PDBFile)"
   ],
   "metadata": {},
   "execution_count": null
  },
  {
   "outputs": [],
   "cell_type": "code",
   "source": [
    "using Bio3DView\n",
    "viewfile(\"selected_residues.pdb\", \"pdb\")"
   ],
   "metadata": {},
   "execution_count": null
  },
  {
   "outputs": [],
   "cell_type": "markdown",
   "source": [
    "## SIFTS\n",
    "\n",
    "We can download the XML SIFTS file of the PDB using the SIFTS module of MIToS.\n",
    "It has a residue level mapping between databases and information about the\n",
    "structure."
   ],
   "metadata": {}
  },
  {
   "outputs": [],
   "cell_type": "code",
   "source": [
    "using MIToS.SIFTS\n",
    "\n",
    "const sifts_file = downloadsifts(pdb_id)"
   ],
   "metadata": {},
   "execution_count": null
  },
  {
   "outputs": [],
   "cell_type": "code",
   "source": [
    "const sifts_res = read(sifts_file, SIFTSXML)"
   ],
   "metadata": {},
   "execution_count": null
  },
  {
   "outputs": [],
   "cell_type": "markdown",
   "source": [
    "Similar to `PDBResidue`, a `SIFTSResidue` contains information about a\n",
    "single residue and their fields can be accessed using dots:"
   ],
   "metadata": {}
  },
  {
   "outputs": [],
   "cell_type": "code",
   "source": [
    "sifts_res[1]"
   ],
   "metadata": {},
   "execution_count": null
  },
  {
   "outputs": [],
   "cell_type": "markdown",
   "source": [
    "In this case, the first residue is missing in the structure:"
   ],
   "metadata": {}
  },
  {
   "outputs": [],
   "cell_type": "code",
   "source": [
    "sifts_res[1].missing"
   ],
   "metadata": {},
   "execution_count": null
  },
  {
   "outputs": [],
   "cell_type": "code",
   "source": [
    "sifts_res[end]"
   ],
   "metadata": {},
   "execution_count": null
  },
  {
   "outputs": [],
   "cell_type": "code",
   "source": [
    "sifts_res[end].missing"
   ],
   "metadata": {},
   "execution_count": null
  },
  {
   "outputs": [],
   "cell_type": "markdown",
   "source": [
    "#### Exercise 4\n",
    "\n",
    "How many missing residues are in the chain A?"
   ],
   "metadata": {}
  },
  {
   "outputs": [],
   "cell_type": "code",
   "source": [
    "# ...your code here..."
   ],
   "metadata": {},
   "execution_count": null
  },
  {
   "outputs": [],
   "cell_type": "markdown",
   "source": [
    "sum(res.missing for res in sifts_res if res.PDB.chain == \"A\")"
   ],
   "metadata": {}
  },
  {
   "outputs": [],
   "cell_type": "markdown",
   "source": [
    "*This notebook was generated using [Literate.jl](https://github.com/fredrikekre/Literate.jl).*"
   ],
   "metadata": {}
  }
 ],
 "nbformat_minor": 3,
 "metadata": {
  "language_info": {
   "file_extension": ".jl",
   "mimetype": "application/julia",
   "name": "julia",
   "version": "1.0.3"
  },
  "kernelspec": {
   "name": "julia-1.0",
   "display_name": "Julia 1.0.3",
   "language": "julia"
  }
 },
 "nbformat": 4
}
