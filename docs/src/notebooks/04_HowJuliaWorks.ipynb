{
 "cells": [
  {
   "outputs": [],
   "cell_type": "markdown",
   "source": [
    "# How Julia works?\n",
    "\n",
    "\n",
    "## Type system\n",
    "\n",
    "Until now, we have not used type annotations, but Julia has a rich type system.\n",
    "Julia is an optionally- and dynamically-typed programming language. That means\n",
    "that you can change the type of a variable..."
   ],
   "metadata": {}
  },
  {
   "outputs": [],
   "cell_type": "code",
   "source": [
    "a = 10\n",
    "typeof(a)"
   ],
   "metadata": {},
   "execution_count": null
  },
  {
   "outputs": [],
   "cell_type": "code",
   "source": [
    "a = true\n",
    "typeof(a)"
   ],
   "metadata": {},
   "execution_count": null
  },
  {
   "outputs": [],
   "cell_type": "markdown",
   "source": [
    "... and that type annotations are optional. You can use type annotations to:\n",
    " - make a program more robust (type checking)"
   ],
   "metadata": {}
  },
  {
   "outputs": [],
   "cell_type": "code",
   "source": [
    "a::Bool # type assertion"
   ],
   "metadata": {},
   "execution_count": null
  },
  {
   "outputs": [],
   "cell_type": "code",
   "source": [
    "a::Int"
   ],
   "metadata": {},
   "execution_count": null
  },
  {
   "outputs": [],
   "cell_type": "markdown",
   "source": [
    " - optimize code by giving a hint to the compiler\n",
    " - documment the code and use multiple dispatch"
   ],
   "metadata": {}
  },
  {
   "outputs": [],
   "cell_type": "code",
   "source": [
    "# function_name(arg::ArgumentType)::ReturnType = function_body\n",
    "first_character(str::AbstractString)::Char = str[1]"
   ],
   "metadata": {},
   "execution_count": null
  },
  {
   "outputs": [],
   "cell_type": "code",
   "source": [
    "character = first_character(\"ABC\")"
   ],
   "metadata": {},
   "execution_count": null
  },
  {
   "outputs": [],
   "cell_type": "code",
   "source": [
    "character = first_character(10_000)"
   ],
   "metadata": {},
   "execution_count": null
  },
  {
   "outputs": [],
   "cell_type": "markdown",
   "source": [
    "### Type hierarchy\n",
    "\n",
    "Any Julia object has a type that belongs to a fully connected type graph.\n",
    "There are abstract and concrete types. Concrete types are final, i.e. they\n",
    "cannot have subtypes, while abstract types can have multiple subtypes but\n",
    "only one supertype."
   ],
   "metadata": {}
  },
  {
   "outputs": [],
   "cell_type": "code",
   "source": [
    "using JuliaForBioinformatics\n",
    "show_type_tree(Number)"
   ],
   "metadata": {},
   "execution_count": null
  },
  {
   "outputs": [],
   "cell_type": "markdown",
   "source": [
    "In Julia, all values are instances of the abstract type `Any`.\n",
    "\n",
    "The functions supertype and subtypes are useful to navegate the type graph."
   ],
   "metadata": {}
  },
  {
   "outputs": [],
   "cell_type": "code",
   "source": [
    "supertype(Real)"
   ],
   "metadata": {},
   "execution_count": null
  },
  {
   "outputs": [],
   "cell_type": "code",
   "source": [
    "subtypes(Real)"
   ],
   "metadata": {},
   "execution_count": null
  },
  {
   "outputs": [],
   "cell_type": "markdown",
   "source": [
    "You can use `isa` to test if an object is of a given type"
   ],
   "metadata": {}
  },
  {
   "outputs": [],
   "cell_type": "code",
   "source": [
    "isa(\"I'm a string\", String)"
   ],
   "metadata": {},
   "execution_count": null
  },
  {
   "outputs": [],
   "cell_type": "markdown",
   "source": [
    "And the subtype operator `<:` to test if a type is a subtype of another"
   ],
   "metadata": {}
  },
  {
   "outputs": [],
   "cell_type": "code",
   "source": [
    "String <: AbstractString"
   ],
   "metadata": {},
   "execution_count": null
  },
  {
   "outputs": [],
   "cell_type": "markdown",
   "source": [
    "You can also use `Union` of types, for example, if the possible types don't\n",
    "share a meaningful supertype"
   ],
   "metadata": {}
  },
  {
   "outputs": [],
   "cell_type": "code",
   "source": [
    "String <: Union{AbstractString, AbstractChar}"
   ],
   "metadata": {},
   "execution_count": null
  },
  {
   "outputs": [],
   "cell_type": "markdown",
   "source": [
    "### Multiple dispatch\n",
    "\n",
    "We can define multiple [methods](https://docs.julialang.org/en/v1/manual/methods/#Methods-1)\n",
    "for a function by using different method signatures by indicating the argument\n",
    "types using `::` or `<:`.\n",
    "\n",
    "For example we are going to define 3 methods for the function `say_my_type`:"
   ],
   "metadata": {}
  },
  {
   "outputs": [],
   "cell_type": "code",
   "source": [
    "say_my_type(x) = println(x, \" is a \", typeof(x))\n",
    "# say_my_type(x) is the same that say_my_type(x::Any)\n",
    "\n",
    "say_my_type(x::Real) = println(x, \" is a Real number of type \",  typeof(x))\n",
    "say_my_type(x::Float64) = println(x, \" is a Float64 number\")"
   ],
   "metadata": {},
   "execution_count": null
  },
  {
   "outputs": [],
   "cell_type": "markdown",
   "source": [
    "When the function is called, Julia selects the method with the most specific\n",
    "method signature."
   ],
   "metadata": {}
  },
  {
   "outputs": [],
   "cell_type": "code",
   "source": [
    "say_my_type('A') # 'A' is a Char, a subtype of Any\n",
    "say_my_type(2) # 2 is an Int, a subtype of Real\n",
    "say_my_type(2.0)"
   ],
   "metadata": {},
   "execution_count": null
  },
  {
   "outputs": [],
   "cell_type": "markdown",
   "source": [
    "`say_my_type(x::Real)` can also be written using the `where` keyword as"
   ],
   "metadata": {}
  },
  {
   "outputs": [],
   "cell_type": "code",
   "source": [
    "say_my_type(x::T) where {T <: Real} = println(x, \" is a Real number of type \",  T)"
   ],
   "metadata": {},
   "execution_count": null
  },
  {
   "outputs": [],
   "cell_type": "code",
   "source": [
    "methods(say_my_type)"
   ],
   "metadata": {},
   "execution_count": null
  },
  {
   "outputs": [],
   "cell_type": "markdown",
   "source": [
    "### Parametric types\n",
    "\n",
    "Julia types can have parameters. We have already used parametric types, one\n",
    "of them is Array:"
   ],
   "metadata": {}
  },
  {
   "outputs": [],
   "cell_type": "code",
   "source": [
    "three_d_array = zeros(Int, 4, 3, 2)"
   ],
   "metadata": {},
   "execution_count": null
  },
  {
   "outputs": [],
   "cell_type": "code",
   "source": [
    "typeof(three_d_array)"
   ],
   "metadata": {},
   "execution_count": null
  },
  {
   "outputs": [],
   "cell_type": "markdown",
   "source": [
    "Julia Arrays take two parameters, the type of the elements stored in the array\n",
    "and the array dimensions.\n",
    "\n",
    "This allows to write specific methods depending on those parameters"
   ],
   "metadata": {}
  },
  {
   "outputs": [],
   "cell_type": "code",
   "source": [
    "say_my_type(x::Array{T, 1}) where {T} = println(x, \" is vector with \",  T, \" elements\")\n",
    "say_my_type(x::Array{T, 2}) where {T} = println(x, \" is matrix with \",  T, \" elements\")"
   ],
   "metadata": {},
   "execution_count": null
  },
  {
   "outputs": [],
   "cell_type": "code",
   "source": [
    "say_my_type(Rational[0.5, 1, 1.5])\n",
    "say_my_type(Float64[1 3 5; 2 4 6])"
   ],
   "metadata": {},
   "execution_count": null
  },
  {
   "outputs": [],
   "cell_type": "markdown",
   "source": [
    "#### Exercise 1\n",
    "\n",
    "Add a method to `say_my_type` that prints the number of unique values of an\n",
    "array of characters or strings and its dimensions. Hint: You can use the\n",
    "`unique` function."
   ],
   "metadata": {}
  },
  {
   "outputs": [],
   "cell_type": "code",
   "source": [
    "# ... println(x, \" is a text array with ... dimensions and ... unique values of type ..."
   ],
   "metadata": {},
   "execution_count": null
  },
  {
   "outputs": [],
   "cell_type": "markdown",
   "source": [
    "That means that the function call:\n",
    "```julia\n",
    "test_array = ['a', 'b', 'b']\n",
    "say_my_type(test_array)\n",
    "```\n",
    "Should print something like:\n",
    "```\n",
    "['a', 'b', 'b'] is a text array with 1 dimensions and 2 unique values of type Char\n",
    "```"
   ],
   "metadata": {}
  },
  {
   "outputs": [],
   "cell_type": "markdown",
   "source": [
    "### Which method is being used?\n",
    "\n",
    "You can use the `@which` macro to ask Julia which method is being used"
   ],
   "metadata": {}
  },
  {
   "outputs": [],
   "cell_type": "code",
   "source": [
    "@which say_my_type(2 + 0im)"
   ],
   "metadata": {},
   "execution_count": null
  },
  {
   "outputs": [],
   "cell_type": "code",
   "source": [
    "@which say_my_type(2.0)"
   ],
   "metadata": {},
   "execution_count": null
  },
  {
   "outputs": [],
   "cell_type": "markdown",
   "source": [
    "### Julia compiler\n",
    "\n",
    "Julia uses Just-in-time (JIT) compilation to achieve close to C performance.\n",
    "After selecting the most specific method, Julia (generally) compiles the\n",
    "method for the particular argument types.\n",
    "\n",
    "For this reason, the first time a function is called, it is compiled (slow).\n",
    "If you call the same function a second time with the same argument types, it\n",
    "will use the already compiled code (fast)."
   ],
   "metadata": {}
  },
  {
   "outputs": [],
   "cell_type": "code",
   "source": [
    "@time sum(1:10_000)"
   ],
   "metadata": {},
   "execution_count": null
  },
  {
   "outputs": [],
   "cell_type": "code",
   "source": [
    "@time sum(1:10_000)"
   ],
   "metadata": {},
   "execution_count": null
  },
  {
   "outputs": [],
   "cell_type": "markdown",
   "source": [
    "While compilation times can be annoying sometimes, this mechanism allows\n",
    "Julia generality, composability and its capacity to generate efficient code\n",
    "for user-defined types. That's mean that you do not need to use built-in\n",
    "types or functions or to code some parts in C/Fortran to get a good\n",
    "performance like in other high-level languages.\n",
    "\n",
    "\n",
    "Also, Julia represents its own code as a Julia data structure. This allows a\n",
    "program to transform and generate its own code, using **macros** and\n",
    "**generated functions**, for example, and powerful reflection capabilities\n",
    "to explore the internals of a program. You can read the\n",
    "[metaprogramming section of the manual](https://docs.julialang.org/en/v1/manual/metaprogramming/)\n",
    "to learn more about this topic."
   ],
   "metadata": {}
  },
  {
   "outputs": [],
   "cell_type": "code",
   "source": [
    "##?@elapsed"
   ],
   "metadata": {},
   "execution_count": null
  },
  {
   "outputs": [],
   "cell_type": "code",
   "source": [
    "macroexpand(Main, :(@elapsed sum(1:10_000)))"
   ],
   "metadata": {},
   "execution_count": null
  },
  {
   "outputs": [],
   "cell_type": "markdown",
   "source": [
    "![](JuliaCompiler.png)"
   ],
   "metadata": {}
  },
  {
   "outputs": [],
   "cell_type": "code",
   "source": [
    "function sum_numbers(vector)\n",
    "    total = 0\n",
    "    for value in vector\n",
    "        total += value\n",
    "    end\n",
    "    total\n",
    "end"
   ],
   "metadata": {},
   "execution_count": null
  },
  {
   "outputs": [],
   "cell_type": "markdown",
   "source": [
    "To avoid performance issues for using a\n",
    "[global variable](https://docs.julialang.org/en/v1/manual/performance-tips/index.html#Avoid-global-variables-1)\n",
    "we are going to define it as a constant using the\n",
    "[const keyword.](https://docs.julialang.org/en/v1/base/base/#const)"
   ],
   "metadata": {}
  },
  {
   "outputs": [],
   "cell_type": "code",
   "source": [
    "const rand_vector = rand(5)"
   ],
   "metadata": {},
   "execution_count": null
  },
  {
   "outputs": [],
   "cell_type": "code",
   "source": [
    "@code_lowered sum_numbers(rand_vector)"
   ],
   "metadata": {},
   "execution_count": null
  },
  {
   "outputs": [],
   "cell_type": "code",
   "source": [
    "@code_typed sum_numbers(rand_vector)"
   ],
   "metadata": {},
   "execution_count": null
  },
  {
   "outputs": [],
   "cell_type": "code",
   "source": [
    "@code_warntype sum_numbers(rand_vector)"
   ],
   "metadata": {},
   "execution_count": null
  },
  {
   "outputs": [],
   "cell_type": "code",
   "source": [
    "@code_llvm sum_numbers(rand_vector)"
   ],
   "metadata": {},
   "execution_count": null
  },
  {
   "outputs": [],
   "cell_type": "code",
   "source": [
    "@code_native sum_numbers(rand_vector)"
   ],
   "metadata": {},
   "execution_count": null
  },
  {
   "outputs": [],
   "cell_type": "markdown",
   "source": [
    "#### Exercise 2\n",
    "\n",
    "Modify the `sum_numbers` function to make it\n",
    "[type stable](https://docs.julialang.org/en/v1/manual/performance-tips/#Write-%22type-stable%22-functions-1)\n",
    "by using `zero` and `eltype`. Then compare the output of the previous\n",
    "`@code_`* macros."
   ],
   "metadata": {}
  },
  {
   "outputs": [],
   "cell_type": "code",
   "source": [
    "function sum_numbers(vector)\n",
    "    total = 0\n",
    "    for value in vector\n",
    "        total += value\n",
    "    end\n",
    "    total\n",
    "end"
   ],
   "metadata": {},
   "execution_count": null
  },
  {
   "outputs": [],
   "cell_type": "markdown",
   "source": [
    "Check that you don't have any warning in the output of `@code_warntype`:"
   ],
   "metadata": {}
  },
  {
   "outputs": [],
   "cell_type": "code",
   "source": [
    "@code_warntype sum_numbers(rand_vector)"
   ],
   "metadata": {},
   "execution_count": null
  },
  {
   "outputs": [],
   "cell_type": "markdown",
   "source": [
    "*This notebook was generated using [Literate.jl](https://github.com/fredrikekre/Literate.jl).*"
   ],
   "metadata": {}
  }
 ],
 "nbformat_minor": 3,
 "metadata": {
  "language_info": {
   "file_extension": ".jl",
   "mimetype": "application/julia",
   "name": "julia",
   "version": "1.1.0"
  },
  "kernelspec": {
   "name": "julia-1.1",
   "display_name": "Julia 1.1.0",
   "language": "julia"
  }
 },
 "nbformat": 4
}
