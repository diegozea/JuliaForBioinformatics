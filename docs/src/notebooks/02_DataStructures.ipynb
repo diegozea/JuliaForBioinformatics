{
 "cells": [
  {
   "outputs": [],
   "cell_type": "markdown",
   "source": [
    "# Data Structures\n",
    "\n",
    "\n",
    "## Arrays\n",
    "\n",
    "Julia has a nice and flexible array interface. Arrays can have an arbitrary\n",
    "number of dimensions. Let's define a one-dimetional array (i.e. a vector):"
   ],
   "metadata": {}
  },
  {
   "outputs": [],
   "cell_type": "code",
   "source": [
    "vector = [1.0, 2.0, 3.0, 4.0, 5.0, 6.0]"
   ],
   "metadata": {},
   "execution_count": null
  },
  {
   "outputs": [],
   "cell_type": "markdown",
   "source": [
    "The first index of an array in Julia is `1`:"
   ],
   "metadata": {}
  },
  {
   "outputs": [],
   "cell_type": "code",
   "source": [
    "vector[1]"
   ],
   "metadata": {},
   "execution_count": null
  },
  {
   "outputs": [],
   "cell_type": "markdown",
   "source": [
    "You can use `end` to access the last element of an array:"
   ],
   "metadata": {}
  },
  {
   "outputs": [],
   "cell_type": "code",
   "source": [
    "vector[end]"
   ],
   "metadata": {},
   "execution_count": null
  },
  {
   "outputs": [],
   "cell_type": "markdown",
   "source": [
    "Use ranges (`start:end`) to get a slice of the array:"
   ],
   "metadata": {}
  },
  {
   "outputs": [],
   "cell_type": "code",
   "source": [
    "vector[2:4]"
   ],
   "metadata": {},
   "execution_count": null
  },
  {
   "outputs": [],
   "cell_type": "markdown",
   "source": [
    "Ranges in Julia are iterable objects:"
   ],
   "metadata": {}
  },
  {
   "outputs": [],
   "cell_type": "code",
   "source": [
    "indexes = 2:4"
   ],
   "metadata": {},
   "execution_count": null
  },
  {
   "outputs": [],
   "cell_type": "code",
   "source": [
    "for i in indexes\n",
    "\t@show i\n",
    "end"
   ],
   "metadata": {},
   "execution_count": null
  },
  {
   "outputs": [],
   "cell_type": "markdown",
   "source": [
    "Julia arrays, like the strings and ranges, are also iterables:"
   ],
   "metadata": {}
  },
  {
   "outputs": [],
   "cell_type": "code",
   "source": [
    "for element in vector\n",
    "\tprintln(element)\n",
    "end"
   ],
   "metadata": {},
   "execution_count": null
  },
  {
   "outputs": [],
   "cell_type": "markdown",
   "source": [
    "#### Exercise 1\n",
    "\n",
    "Write a function to return the distance between two three dimensional points,\n",
    "i.e. two vector of three elements. You should use a `for` loop over a range\n",
    "and index the vectors."
   ],
   "metadata": {}
  },
  {
   "outputs": [],
   "cell_type": "code",
   "source": [
    "# function distance(a, b..."
   ],
   "metadata": {},
   "execution_count": null
  },
  {
   "outputs": [],
   "cell_type": "code",
   "source": [
    "using Test\n",
    "A = [1.25, 2.0, 3.6]\n",
    "B = [-3.5, 4.7, 5.0]\n",
    "@test distance(A, B) ≈ hypot((A - B)...)"
   ],
   "metadata": {},
   "execution_count": null
  },
  {
   "outputs": [],
   "cell_type": "markdown",
   "source": [
    "`...` \"splats\" the values contained in an iterable collection into a\n",
    "function call as individual arguments, e.g:"
   ],
   "metadata": {}
  },
  {
   "outputs": [],
   "cell_type": "code",
   "source": [
    "vector = [1, 2, 3]\n",
    "hypot(vector...)  # hypot(1, 2, 3)"
   ],
   "metadata": {},
   "execution_count": null
  },
  {
   "outputs": [],
   "cell_type": "markdown",
   "source": [
    "You can use `push!` to add one element to the end of an array"
   ],
   "metadata": {}
  },
  {
   "outputs": [],
   "cell_type": "code",
   "source": [
    "vector = [1,2,3]"
   ],
   "metadata": {},
   "execution_count": null
  },
  {
   "outputs": [],
   "cell_type": "code",
   "source": [
    "push!(vector, 4)"
   ],
   "metadata": {},
   "execution_count": null
  },
  {
   "outputs": [],
   "cell_type": "markdown",
   "source": [
    "There are other useful\n",
    "[dequeues functions](https://docs.julialang.org/en/v1/base/collections/#Dequeues-1)\n",
    "defined in Julia, e.g. `pop!`, `append!`.\n",
    "\n",
    "In Julia, by convention, all the functions that modify their arguments\n",
    "should end with a bang or exclamation mark, `!`, see the\n",
    "[style guide](https://docs.julialang.org/en/v1/manual/style-guide/index.html#Append-!-to-names-of-functions-that-modify-their-arguments-1)."
   ],
   "metadata": {}
  },
  {
   "outputs": [],
   "cell_type": "markdown",
   "source": [
    "### Vectorized operations\n",
    "\n",
    "You can use a dot, `.`,  to indicate that a function, e.g. `log.(x)`, or\n",
    "operator, e.g. `x .^ y`,  should be applied element by element, see\n",
    "[dot syntax](https://docs.julialang.org/en/v1/manual/functions/#man-vectorized-1):"
   ],
   "metadata": {}
  },
  {
   "outputs": [],
   "cell_type": "code",
   "source": [
    "a = [1, -2, -3]\n",
    "b = [-2, -4, 0]\n",
    "a .* b"
   ],
   "metadata": {},
   "execution_count": null
  },
  {
   "outputs": [],
   "cell_type": "markdown",
   "source": [
    "This notation allows vectorizing any function, even element-wise functions\n",
    "defined by the user:"
   ],
   "metadata": {}
  },
  {
   "outputs": [],
   "cell_type": "code",
   "source": [
    "f(x) = 3.45x + 4.76\n",
    "\n",
    "f.(sin.(a))"
   ],
   "metadata": {},
   "execution_count": null
  },
  {
   "outputs": [],
   "cell_type": "markdown",
   "source": [
    "Multiple vectorized operations get\n",
    "[fused in a single loop](https://julialang.org/blog/2017/01/moredots)\n",
    "without temporal arrays."
   ],
   "metadata": {}
  },
  {
   "outputs": [],
   "cell_type": "markdown",
   "source": [
    "### Comprehensions\n",
    "\n",
    "You can use [comprehensions](https://docs.julialang.org/en/v1/manual/arrays/#Comprehensions-1)\n",
    "to create arrays and perform some operation"
   ],
   "metadata": {}
  },
  {
   "outputs": [],
   "cell_type": "code",
   "source": [
    "[ 2x for x in 1:10 ]"
   ],
   "metadata": {},
   "execution_count": null
  },
  {
   "outputs": [],
   "cell_type": "code",
   "source": [
    "result = [ 2x for x in 1:10 if x % 2 == 0 ]"
   ],
   "metadata": {},
   "execution_count": null
  },
  {
   "outputs": [],
   "cell_type": "markdown",
   "source": [
    "#### Exercise 3\n",
    "\n",
    "Write the equivalent of the previous expression using a `for` loop and `push!`."
   ],
   "metadata": {}
  },
  {
   "outputs": [],
   "cell_type": "code",
   "source": [
    "# result = []\n",
    "# for ..."
   ],
   "metadata": {},
   "execution_count": null
  },
  {
   "outputs": [],
   "cell_type": "markdown",
   "source": [
    "### Matrices\n",
    "\n",
    "Matrices, bidimentional arrays, can be defined with the following notation:"
   ],
   "metadata": {}
  },
  {
   "outputs": [],
   "cell_type": "code",
   "source": [
    "matrix = [ 1.0 4.0 7.0\n",
    "           2.0 5.0 8.0\n",
    "\t\t   3.0 6.0 9.0 ]"
   ],
   "metadata": {},
   "execution_count": null
  },
  {
   "outputs": [],
   "cell_type": "markdown",
   "source": [
    "You can use linear indexing (Julia arrays are stored in column major order)\n",
    "to access an element"
   ],
   "metadata": {}
  },
  {
   "outputs": [],
   "cell_type": "code",
   "source": [
    "matrix[2]"
   ],
   "metadata": {},
   "execution_count": null
  },
  {
   "outputs": [],
   "cell_type": "markdown",
   "source": [
    "Or using one index by dimension, i.e. `matrix[row_index, col_index]` :"
   ],
   "metadata": {}
  },
  {
   "outputs": [],
   "cell_type": "code",
   "source": [
    "matrix[2, 1]"
   ],
   "metadata": {},
   "execution_count": null
  },
  {
   "outputs": [],
   "cell_type": "markdown",
   "source": [
    "You can also use ranges and `end`. The colon, `:`, means that all the indices\n",
    "from that dimension should be used:"
   ],
   "metadata": {}
  },
  {
   "outputs": [],
   "cell_type": "code",
   "source": [
    "matrix[2:end, :]"
   ],
   "metadata": {},
   "execution_count": null
  },
  {
   "outputs": [],
   "cell_type": "markdown",
   "source": [
    "#### Comprehensions\n",
    "\n",
    "You can also use comprehensions to create matrices. In fact, you can create\n",
    "array of any desired dimension:"
   ],
   "metadata": {}
  },
  {
   "outputs": [],
   "cell_type": "code",
   "source": [
    "[ x + y for x in 1:5, y in 1:10 ]"
   ],
   "metadata": {},
   "execution_count": null
  },
  {
   "outputs": [],
   "cell_type": "markdown",
   "source": [
    "## Dictionaries and pairs\n",
    "\n",
    "Dictionaries (hash tables) stores key => values pairs:"
   ],
   "metadata": {}
  },
  {
   "outputs": [],
   "cell_type": "code",
   "source": [
    "dictionary = Dict('A' => 'T', 'C' => 'G', 'T' => 'A', 'G' => 'C')"
   ],
   "metadata": {},
   "execution_count": null
  },
  {
   "outputs": [],
   "cell_type": "markdown",
   "source": [
    "You can get a value by indexing with the key:"
   ],
   "metadata": {}
  },
  {
   "outputs": [],
   "cell_type": "code",
   "source": [
    "dictionary['A'] # get(dictionary, 'A')"
   ],
   "metadata": {},
   "execution_count": null
  },
  {
   "outputs": [],
   "cell_type": "markdown",
   "source": [
    "If the key is not present in the dictionary, an error is raised:"
   ],
   "metadata": {}
  },
  {
   "outputs": [],
   "cell_type": "code",
   "source": [
    "dictionary['N'] # get(dictionary, 'N')"
   ],
   "metadata": {},
   "execution_count": null
  },
  {
   "outputs": [],
   "cell_type": "markdown",
   "source": [
    "The function `get` allows to specify a default value that is returned if\n",
    "the key is absent in the dictionary:"
   ],
   "metadata": {}
  },
  {
   "outputs": [],
   "cell_type": "code",
   "source": [
    "get(dictionary, 'N', '-')"
   ],
   "metadata": {},
   "execution_count": null
  },
  {
   "outputs": [],
   "cell_type": "markdown",
   "source": [
    "A nice thing about hash tables (dictionary keys, sets) is that test\n",
    "membership is $O(1)$ while it is $O(N)$ in lists/vectors/arrays:"
   ],
   "metadata": {}
  },
  {
   "outputs": [],
   "cell_type": "code",
   "source": [
    "'N' in keys(dictionary)"
   ],
   "metadata": {},
   "execution_count": null
  },
  {
   "outputs": [],
   "cell_type": "markdown",
   "source": [
    "A dictionary gives pairs when it is iterated:"
   ],
   "metadata": {}
  },
  {
   "outputs": [],
   "cell_type": "code",
   "source": [
    "for pair in dictionary\n",
    "\tprintln(\"pair: \", pair)  # each pair is key => value\n",
    "\tprintln(\"key: \", pair.first)  # pair.first == pair[1]\n",
    "\tprintln(\"value: \", pair.second)  # pair.second == pair[2]\n",
    "end"
   ],
   "metadata": {},
   "execution_count": null
  },
  {
   "outputs": [],
   "cell_type": "markdown",
   "source": [
    "## Tuples\n",
    "\n",
    "Tuples are immutable collections, while arrays are mutable:"
   ],
   "metadata": {}
  },
  {
   "outputs": [],
   "cell_type": "code",
   "source": [
    "point = [1.0, 2.0, 3.0]  # vector\n",
    "point[1] = 10.0\n",
    "point"
   ],
   "metadata": {},
   "execution_count": null
  },
  {
   "outputs": [],
   "cell_type": "code",
   "source": [
    "point = (1.0, 2.0, 3.0)  # tuple"
   ],
   "metadata": {},
   "execution_count": null
  },
  {
   "outputs": [],
   "cell_type": "code",
   "source": [
    "point[1] = 10.0"
   ],
   "metadata": {},
   "execution_count": null
  },
  {
   "outputs": [],
   "cell_type": "markdown",
   "source": [
    "You can index a tuple, like a vector, to get the stored element(s):"
   ],
   "metadata": {}
  },
  {
   "outputs": [],
   "cell_type": "code",
   "source": [
    "point[1:2]"
   ],
   "metadata": {},
   "execution_count": null
  },
  {
   "outputs": [],
   "cell_type": "markdown",
   "source": [
    "Tuples, vectors, pairs and other iterables can be easily unpacked using an\n",
    "assignation:"
   ],
   "metadata": {}
  },
  {
   "outputs": [],
   "cell_type": "code",
   "source": [
    "x, y, z = point\n",
    "y"
   ],
   "metadata": {},
   "execution_count": null
  },
  {
   "outputs": [],
   "cell_type": "markdown",
   "source": [
    "You can use this unpacking when iterating a dictionary:"
   ],
   "metadata": {}
  },
  {
   "outputs": [],
   "cell_type": "code",
   "source": [
    "for (key, value) in dictionary\n",
    "\tprintln(\"key: \", key, \" value: \", value)\n",
    "end"
   ],
   "metadata": {},
   "execution_count": null
  },
  {
   "outputs": [],
   "cell_type": "markdown",
   "source": [
    "#### Exercise 3\n",
    "\n",
    "Write a function to return the reverse complement of a DNA sequence (string)\n",
    "using a dictionary, the `join` function and the `Base.Iterators.reverse`\n",
    "iterator. It should use a 'N' as complementary of any base different from\n",
    "'A', 'C', 'T' or 'G':"
   ],
   "metadata": {}
  },
  {
   "outputs": [],
   "cell_type": "code",
   "source": [
    "# function reverse_complement(..."
   ],
   "metadata": {},
   "execution_count": null
  },
  {
   "outputs": [],
   "cell_type": "code",
   "source": [
    "using Test\n",
    "@test reverse_complement(\"ACTGGTCCCNT\") == \"ANGGGACCAGT\""
   ],
   "metadata": {},
   "execution_count": null
  },
  {
   "outputs": [],
   "cell_type": "markdown",
   "source": [
    "### Named tuples\n",
    "\n",
    "They can be an easy and fast way to store data:"
   ],
   "metadata": {}
  },
  {
   "outputs": [],
   "cell_type": "code",
   "source": [
    "point = (x=1.0, y=2.0, z=3.0)  # named tuple"
   ],
   "metadata": {},
   "execution_count": null
  },
  {
   "outputs": [],
   "cell_type": "markdown",
   "source": [
    "You can use `namedtuple.name` to access a particular element:"
   ],
   "metadata": {}
  },
  {
   "outputs": [],
   "cell_type": "code",
   "source": [
    "point.y"
   ],
   "metadata": {},
   "execution_count": null
  },
  {
   "outputs": [],
   "cell_type": "markdown",
   "source": [
    "## Sets\n",
    "\n",
    "You can use `Set` to represent a set of unique elements:"
   ],
   "metadata": {}
  },
  {
   "outputs": [],
   "cell_type": "code",
   "source": [
    "set = Set([1, 2, 2, 3, 3, 3, 4, 4, 4, 4])"
   ],
   "metadata": {},
   "execution_count": null
  },
  {
   "outputs": [],
   "cell_type": "markdown",
   "source": [
    "Test membership is $O(1)$"
   ],
   "metadata": {}
  },
  {
   "outputs": [],
   "cell_type": "code",
   "source": [
    "4 in set"
   ],
   "metadata": {},
   "execution_count": null
  },
  {
   "outputs": [],
   "cell_type": "markdown",
   "source": [
    "You can get the intersection of two sets using `intersect` or\n",
    "`∩` (`\\cap<TAB>`)"
   ],
   "metadata": {}
  },
  {
   "outputs": [],
   "cell_type": "code",
   "source": [
    "set_a = Set([1, 2, 3])\n",
    "set_b = Set([2, 3, 4])\n",
    "set_a ∩ set_b  # intersect(set, set_b)"
   ],
   "metadata": {},
   "execution_count": null
  },
  {
   "outputs": [],
   "cell_type": "markdown",
   "source": [
    "And the unioin of to sets using `union` or `∪` (`\\cup<TAB>`)"
   ],
   "metadata": {}
  },
  {
   "outputs": [],
   "cell_type": "code",
   "source": [
    "set_a ∪ set_b  # union(set, set_b)"
   ],
   "metadata": {},
   "execution_count": null
  },
  {
   "outputs": [],
   "cell_type": "markdown",
   "source": [
    "The symmetric difference, i.e. disjunctive union, of two sets"
   ],
   "metadata": {}
  },
  {
   "outputs": [],
   "cell_type": "code",
   "source": [
    "symdiff(set_a, set_b)"
   ],
   "metadata": {},
   "execution_count": null
  },
  {
   "outputs": [],
   "cell_type": "markdown",
   "source": [
    "*This notebook was generated using [Literate.jl](https://github.com/fredrikekre/Literate.jl).*"
   ],
   "metadata": {}
  }
 ],
 "nbformat_minor": 3,
 "metadata": {
  "language_info": {
   "file_extension": ".jl",
   "mimetype": "application/julia",
   "name": "julia",
   "version": "1.1.0"
  },
  "kernelspec": {
   "name": "julia-1.1",
   "display_name": "Julia 1.1.0",
   "language": "julia"
  }
 },
 "nbformat": 4
}
