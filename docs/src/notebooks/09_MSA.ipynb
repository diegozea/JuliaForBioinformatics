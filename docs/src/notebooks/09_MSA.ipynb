{
 "cells": [
  {
   "outputs": [],
   "cell_type": "markdown",
   "source": [
    "# Multiple Sequence Alignments\n",
    "\n",
    "\n",
    "For this example, we use the Multiple Sequence Alignment (MSA) of the\n",
    "catalytic domain from the *Cytosol aminopeptidase family*. We use the\n",
    "`downloadpfam` function of the MIToS' Pfam module to get the annotated\n",
    "[Stockholm](https://en.wikipedia.org/wiki/Stockholm_format) file from the\n",
    "[Pfam](pfam.xfam.org/) database:"
   ],
   "metadata": {}
  },
  {
   "outputs": [],
   "cell_type": "code",
   "source": [
    "using MIToS.Pfam\n",
    "const pfam_file = downloadpfam(\"PF00883\")"
   ],
   "metadata": {},
   "execution_count": null
  },
  {
   "outputs": [],
   "cell_type": "markdown",
   "source": [
    "The `read` function from MIToS' MSA allows parsing multiple sequence\n",
    "alignments. The file format is indicated by the second argument. There is\n",
    "no need for decompressing the file before reading it:"
   ],
   "metadata": {}
  },
  {
   "outputs": [],
   "cell_type": "code",
   "source": [
    "using MIToS.MSA\n",
    "msa = read(pfam_file, Stockholm)"
   ],
   "metadata": {},
   "execution_count": null
  },
  {
   "outputs": [],
   "cell_type": "markdown",
   "source": [
    "Pfam alignments are generated using [HMMER3](http://hmmer.org/) Hidden Markov\n",
    "Model (HMM) searches, have insertion columns (indicated by dots and lowercase\n",
    "letters):"
   ],
   "metadata": {}
  },
  {
   "outputs": [],
   "cell_type": "code",
   "source": [
    "first_seq = sequencenames(msa)[1]"
   ],
   "metadata": {},
   "execution_count": null
  },
  {
   "outputs": [],
   "cell_type": "markdown",
   "source": [
    "**TIP:** You can use [TranscodingStreams](https://bicycle1885.github.io/TranscodingStreams.jl/stable/)\n",
    "to read compressed files. In particular, the *CodecZlib* package has the\n",
    "needed codecs for reading gzipped files.\n",
    "For example, the next cell is similar to using `zgrep` in Linux:\n",
    "```bash\n",
    "zgrep ^A0A094YQ53_BACAO/182-489 PF00883.stockholm.gz\n",
    "```"
   ],
   "metadata": {}
  },
  {
   "outputs": [],
   "cell_type": "code",
   "source": [
    "using CodecZlib\n",
    "\n",
    "open(GzipDecompressorStream, pfam_file) do file\n",
    "\tfor line in eachline(file)\n",
    "\t\tif startswith(line, first_seq)\n",
    "\t\t\tprintln(line)\n",
    "\t\tend\n",
    "\tend\n",
    "end"
   ],
   "metadata": {},
   "execution_count": null
  },
  {
   "outputs": [],
   "cell_type": "markdown",
   "source": [
    "**TIP:** If you are on Linux and you have zgrep installed, you can run it as an\n",
    "[external command](https://docs.julialang.org/en/v1/manual/running-external-programs/index.html)\n",
    "and use interpolation:\n",
    "```julia\n",
    "run(`zgrep ^$first_seq $pfam_file`)\n",
    "```\n",
    "or using the [shell mode](https://docs.julialang.org/en/v1/stdlib/REPL/#The-different-prompt-modes-1)\n",
    "of the Julia REPL:\n",
    "```julia\n",
    ";zgrep ^$first_seq $pfam_file\n",
    "```\n",
    "\n",
    "Insert columns are deleted by MIToS, therefore the first MSA column has the\n",
    "label `\"69\"` (column  number in the input file) instead of `\"1\"`:"
   ],
   "metadata": {}
  },
  {
   "outputs": [],
   "cell_type": "code",
   "source": [
    "columnnames(msa)[1]"
   ],
   "metadata": {},
   "execution_count": null
  },
  {
   "outputs": [],
   "cell_type": "markdown",
   "source": [
    "If we want to keep track of residue numbers in each sequence, we need to read\n",
    "the file using the keyword arguments `generatemapping` and `useidcoordinates`:"
   ],
   "metadata": {}
  },
  {
   "outputs": [],
   "cell_type": "code",
   "source": [
    "const mapped_msa = read(pfam_file,\n",
    "\t\t\t\t\t\tStockholm,\n",
    "\t\t\t\t\t\tgeneratemapping=true,\n",
    "\t\t\t\t\t\tuseidcoordinates=true)"
   ],
   "metadata": {},
   "execution_count": null
  },
  {
   "outputs": [],
   "cell_type": "code",
   "source": [
    "getsequencemapping(mapped_msa, \"A0A094YQ53_BACAO/182-489\")"
   ],
   "metadata": {},
   "execution_count": null
  },
  {
   "outputs": [],
   "cell_type": "markdown",
   "source": [
    "The mapping is stored in the MSA annotations and it is automatically updated\n",
    "when columns are deleted.\n",
    "\n",
    "The `getannot...` functions return dictionaries with the MSA annotations"
   ],
   "metadata": {}
  },
  {
   "outputs": [],
   "cell_type": "code",
   "source": [
    "getannotresidue(mapped_msa)"
   ],
   "metadata": {},
   "execution_count": null
  },
  {
   "outputs": [],
   "cell_type": "markdown",
   "source": [
    "Pfam has \"AS\" (active site) and \"pAS\" (predicted active site) annotations for\n",
    "some families. We use `filter` to get a dictionary with the experimentally\n",
    "annotated active site residues (indicated by `*`):"
   ],
   "metadata": {}
  },
  {
   "outputs": [],
   "cell_type": "code",
   "source": [
    "active_sites = filter(pair -> pair[1][2] == \"AS\", getannotresidue(mapped_msa))"
   ],
   "metadata": {},
   "execution_count": null
  },
  {
   "outputs": [],
   "cell_type": "markdown",
   "source": [
    "#### Exercise I\n",
    "\n",
    "Which are the UniProt residue numbers of residues at the active site of\n",
    "AMPL_BOVIN/197-508?\n",
    "\n",
    "**Hint:** You can use the functions `getsequencemapping` and `zip`."
   ],
   "metadata": {}
  },
  {
   "outputs": [],
   "cell_type": "code",
   "source": [
    "# ...your solution..."
   ],
   "metadata": {},
   "execution_count": null
  },
  {
   "outputs": [],
   "cell_type": "markdown",
   "source": [
    "The answer is [294 and 368](https://www.uniprot.org/uniprot/P00727)."
   ],
   "metadata": {}
  },
  {
   "outputs": [],
   "cell_type": "markdown",
   "source": [
    "## MSA statistics and plotting\n",
    "\n",
    "[Plots.jl](http://docs.juliaplots.org/latest/) is a nice library because\n",
    "it gives a single API for multiple plotting backends (packages):\n",
    "- [GR](https://github.com/jheinen/GR.jl) is fast\n",
    "- [PlotlyJS](https://github.com/sglyon/PlotlyJS.jl) is interactive\n",
    "- [UnicodePlots](https://github.com/Evizero/UnicodePlots.jl) doesn't need a graphics environment\n",
    "- [PGFPlots](https://github.com/JuliaTeX/PGFPlots.jl) has LaTeX quality\n",
    "- [PyPlot](https://github.com/JuliaPy/PyPlot.jl) for pythonists"
   ],
   "metadata": {}
  },
  {
   "outputs": [],
   "cell_type": "code",
   "source": [
    "using Plots\n",
    "gr() # choose the plotting backend"
   ],
   "metadata": {},
   "execution_count": null
  },
  {
   "outputs": [],
   "cell_type": "markdown",
   "source": [
    "Plots.jl allows to define [plot recipes](docs.juliaplots.org/latest/recipes/)\n",
    "and MIToS uses them to define plots for common biological objects:"
   ],
   "metadata": {}
  },
  {
   "outputs": [],
   "cell_type": "code",
   "source": [
    "plot(mapped_msa)"
   ],
   "metadata": {},
   "execution_count": null
  },
  {
   "outputs": [],
   "cell_type": "markdown",
   "source": [
    "Plots are also really useful to visualize MSA statistics:"
   ],
   "metadata": {}
  },
  {
   "outputs": [],
   "cell_type": "code",
   "source": [
    "plotlyjs() # change to an interactive backend"
   ],
   "metadata": {},
   "execution_count": null
  },
  {
   "outputs": [],
   "cell_type": "code",
   "source": [
    "gap_percentage = 100.0 .* gapfraction(mapped_msa, 1) # i.e. reduce dimension 1"
   ],
   "metadata": {},
   "execution_count": null
  },
  {
   "outputs": [],
   "cell_type": "code",
   "source": [
    "x = names(gap_percentage, 2)"
   ],
   "metadata": {},
   "execution_count": null
  },
  {
   "outputs": [],
   "cell_type": "code",
   "source": [
    "y = vec(gap_percentage)"
   ],
   "metadata": {},
   "execution_count": null
  },
  {
   "outputs": [],
   "cell_type": "code",
   "source": [
    "plot(x, y, legend=false)\n",
    "xlabel!(\"MSA column (input file)\")\n",
    "ylabel!(\"Gap percentage\")"
   ],
   "metadata": {},
   "execution_count": null
  },
  {
   "outputs": [],
   "cell_type": "markdown",
   "source": [
    "Something you can easily calculate with MIToS is the percentage identity\n",
    "between all the sequences in a Multiple Sequence Alignment:"
   ],
   "metadata": {}
  },
  {
   "outputs": [],
   "cell_type": "code",
   "source": [
    "percent_id = percentidentity(mapped_msa)"
   ],
   "metadata": {},
   "execution_count": null
  },
  {
   "outputs": [],
   "cell_type": "markdown",
   "source": [
    "#### Exercise 1\n",
    "\n",
    "What is the sequence that has the highest identity percentage with\n",
    "AMPL_BOVIN/197-508?\n",
    "\n",
    "**Hint:** Use [NamedArrays](https://github.com/davidavdav/NamedArrays.jl)\n",
    "`Not` indexing and `names` and Julia's `findmax`:"
   ],
   "metadata": {}
  },
  {
   "outputs": [],
   "cell_type": "code",
   "source": [
    "using NamedArrays\n",
    "\n",
    "# ...your solution..."
   ],
   "metadata": {},
   "execution_count": null
  },
  {
   "outputs": [],
   "cell_type": "markdown",
   "source": [
    "*This notebook was generated using [Literate.jl](https://github.com/fredrikekre/Literate.jl).*"
   ],
   "metadata": {}
  }
 ],
 "nbformat_minor": 3,
 "metadata": {
  "language_info": {
   "file_extension": ".jl",
   "mimetype": "application/julia",
   "name": "julia",
   "version": "1.1.0"
  },
  "kernelspec": {
   "name": "julia-1.1",
   "display_name": "Julia 1.1.0",
   "language": "julia"
  }
 },
 "nbformat": 4
}
