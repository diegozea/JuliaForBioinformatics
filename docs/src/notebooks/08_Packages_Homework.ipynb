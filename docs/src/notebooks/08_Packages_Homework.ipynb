{
 "cells": [
  {
   "outputs": [],
   "cell_type": "markdown",
   "source": [
    "# HOMEWORK: Packages\n",
    "\n",
    "\n",
    "Modules and packages are a nice way to organize code. You can read about how\n",
    "to deal with packages from the Julia manual\n",
    "[Modules](https://pkg.julialang.org/docs/julia/THl1k/1.1.0/manual/modules.html)\n",
    "and [Pkg](https://pkg.julialang.org/docs/julia/THl1k/1.1.0/stdlib/Pkg.html#Pkg-1)\n",
    "sections and from the\n",
    "[package manager documentation.](https://julialang.github.io/Pkg.jl/v1/)\n",
    "\n",
    "## PkgTemplates\n",
    "\n",
    "The quickest and simplest way to create a package is using\n",
    "[PkgTemplates](https://github.com/invenia/PkgTemplates.jl). For example,\n",
    "this Julia package was generated using the `interactive_template` and\n",
    "`generate` functions of `PkgTemplates`.\n",
    "\n",
    "Also, this package website/documentation and jupyter notebooks are generated\n",
    "using [Documenter](https://github.com/JuliaDocs/Documenter.jl)\n",
    "and [Literate](https://github.com/fredrikekre/Literate.jl).\n",
    "\n",
    "#### Homework\n",
    "\n",
    "Use *PkgTemplates* to create a small *PersonalUtils.jl* package. Include your\n",
    "function to read fasta files from the previous homework in your package module\n",
    "and add unit tests for it."
   ],
   "metadata": {}
  },
  {
   "outputs": [],
   "cell_type": "markdown",
   "source": [
    "*This notebook was generated using [Literate.jl](https://github.com/fredrikekre/Literate.jl).*"
   ],
   "metadata": {}
  }
 ],
 "nbformat_minor": 3,
 "metadata": {
  "language_info": {
   "file_extension": ".jl",
   "mimetype": "application/julia",
   "name": "julia",
   "version": "1.1.0"
  },
  "kernelspec": {
   "name": "julia-1.1",
   "display_name": "Julia 1.1.0",
   "language": "julia"
  }
 },
 "nbformat": 4
}
