{
 "cells": [
  {
   "outputs": [],
   "cell_type": "markdown",
   "source": [
    "# Counting residues\n",
    "\n",
    "\n",
    "MIToS was designed to perform fast counting of residues. To achieve that,\n",
    "each `Residue` is encoded as an integer that can be used to index."
   ],
   "metadata": {}
  },
  {
   "outputs": [],
   "cell_type": "code",
   "source": [
    "using MIToS.MSA\n",
    "res = Residue('C')"
   ],
   "metadata": {},
   "execution_count": null
  },
  {
   "outputs": [],
   "cell_type": "code",
   "source": [
    "Int(res)"
   ],
   "metadata": {},
   "execution_count": null
  },
  {
   "outputs": [],
   "cell_type": "markdown",
   "source": [
    "Let's count residues in the *UBA domain* Pfam family."
   ],
   "metadata": {}
  },
  {
   "outputs": [],
   "cell_type": "code",
   "source": [
    "using MIToS.Pfam\n",
    "const msa_file = downloadpfam(\"PF16577\")"
   ],
   "metadata": {},
   "execution_count": null
  },
  {
   "outputs": [],
   "cell_type": "code",
   "source": [
    "const msa = read(msa_file, Stockholm)"
   ],
   "metadata": {},
   "execution_count": null
  },
  {
   "outputs": [],
   "cell_type": "markdown",
   "source": [
    "We can access the MSA as a matrix to get a particular column or sequence:\n",
    "```julia\n",
    "msa[:, column]\n",
    "msa[sequence, :]\n",
    "```"
   ],
   "metadata": {}
  },
  {
   "outputs": [],
   "cell_type": "code",
   "source": [
    "col_i = msa[:, 10]"
   ],
   "metadata": {},
   "execution_count": null
  },
  {
   "outputs": [],
   "cell_type": "markdown",
   "source": [
    "MIToS Information module has functions to get residue frequencies (counts or\n",
    "fractions) and to return contingency tables:"
   ],
   "metadata": {}
  },
  {
   "outputs": [],
   "cell_type": "code",
   "source": [
    "using MIToS.Information"
   ],
   "metadata": {},
   "execution_count": null
  },
  {
   "outputs": [],
   "cell_type": "code",
   "source": [
    "Ni = count(col_i)"
   ],
   "metadata": {},
   "execution_count": null
  },
  {
   "outputs": [],
   "cell_type": "code",
   "source": [
    "Pi = probabilities(col_i)"
   ],
   "metadata": {},
   "execution_count": null
  },
  {
   "outputs": [],
   "cell_type": "markdown",
   "source": [
    "`Counts` and `Probabilities` objects wrap a `ContingencyTable`:"
   ],
   "metadata": {}
  },
  {
   "outputs": [],
   "cell_type": "code",
   "source": [
    "Pi.table"
   ],
   "metadata": {},
   "execution_count": null
  },
  {
   "outputs": [],
   "cell_type": "markdown",
   "source": [
    "They can be quickly indexed by using `Residue`s:"
   ],
   "metadata": {}
  },
  {
   "outputs": [],
   "cell_type": "code",
   "source": [
    "Pi[Residue('P')]"
   ],
   "metadata": {},
   "execution_count": null
  },
  {
   "outputs": [],
   "cell_type": "markdown",
   "source": [
    "You can create a bidimensional `ContingencyTable` by using two MSA columns or\n",
    "sequences (there is no limit to the number of dimensions):"
   ],
   "metadata": {}
  },
  {
   "outputs": [],
   "cell_type": "code",
   "source": [
    "col_j = msa[:, 15]\n",
    "\n",
    "Nij = count(col_i, col_j)"
   ],
   "metadata": {},
   "execution_count": null
  },
  {
   "outputs": [],
   "cell_type": "code",
   "source": [
    "Nij[Residue('P'), Residue('R')]"
   ],
   "metadata": {},
   "execution_count": null
  },
  {
   "outputs": [],
   "cell_type": "markdown",
   "source": [
    "You can also get probabilities by normalizing counts:"
   ],
   "metadata": {}
  },
  {
   "outputs": [],
   "cell_type": "code",
   "source": [
    "Pij = normalize(Nij.table)"
   ],
   "metadata": {},
   "execution_count": null
  },
  {
   "outputs": [],
   "cell_type": "code",
   "source": [
    "Pij[Residue('P'), Residue('R')]"
   ],
   "metadata": {},
   "execution_count": null
  },
  {
   "outputs": [],
   "cell_type": "markdown",
   "source": [
    "## Plotting counts\n",
    "\n",
    "We use a `heatmap` to plot a bidimensional table:"
   ],
   "metadata": {}
  },
  {
   "outputs": [],
   "cell_type": "code",
   "source": [
    "using Plots\n",
    "gr()"
   ],
   "metadata": {},
   "execution_count": null
  },
  {
   "outputs": [],
   "cell_type": "markdown",
   "source": [
    "We can list the available color libraries:"
   ],
   "metadata": {}
  },
  {
   "outputs": [],
   "cell_type": "code",
   "source": [
    "clibraries()"
   ],
   "metadata": {},
   "execution_count": null
  },
  {
   "outputs": [],
   "cell_type": "markdown",
   "source": [
    "Visualize the color maps defined in a library:"
   ],
   "metadata": {}
  },
  {
   "outputs": [],
   "cell_type": "code",
   "source": [
    "showlibrary(:Plots)"
   ],
   "metadata": {},
   "execution_count": null
  },
  {
   "outputs": [],
   "cell_type": "markdown",
   "source": [
    "And select the color library we want to use:"
   ],
   "metadata": {}
  },
  {
   "outputs": [],
   "cell_type": "code",
   "source": [
    "clibrary(:cmocean)"
   ],
   "metadata": {},
   "execution_count": null
  },
  {
   "outputs": [],
   "cell_type": "markdown",
   "source": [
    "For this plot, we use the interactive *Plotly* backend"
   ],
   "metadata": {}
  },
  {
   "outputs": [],
   "cell_type": "code",
   "source": [
    "plotlyjs()"
   ],
   "metadata": {},
   "execution_count": null
  },
  {
   "outputs": [],
   "cell_type": "markdown",
   "source": [
    "We need a vector of strings for the ticks labels..."
   ],
   "metadata": {}
  },
  {
   "outputs": [],
   "cell_type": "code",
   "source": [
    "x = string.(Residue.(UngappedAlphabet()))"
   ],
   "metadata": {},
   "execution_count": null
  },
  {
   "outputs": [],
   "cell_type": "markdown",
   "source": [
    "...because `xticks` and `xticks` keyword arguments take a tuple:\n",
    "`(positions, labels)`"
   ],
   "metadata": {}
  },
  {
   "outputs": [],
   "cell_type": "code",
   "source": [
    "heatmap(Nij,\n",
    "\t\tcolor=:tempo,\n",
    "\t\tratio=:equal,\n",
    "\t\txticks=(1:length(x), x),\n",
    "\t\tyticks=(1:length(x), x))"
   ],
   "metadata": {},
   "execution_count": null
  },
  {
   "outputs": [],
   "cell_type": "markdown",
   "source": [
    "## Functions taking counts and probabilities\n",
    "\n",
    "Information defines different functions that take contingency tables as an\n",
    "input, for example:"
   ],
   "metadata": {}
  },
  {
   "outputs": [],
   "cell_type": "code",
   "source": [
    "entropy(Ni)"
   ],
   "metadata": {},
   "execution_count": null
  },
  {
   "outputs": [],
   "cell_type": "code",
   "source": [
    "mutual_information(Nij)"
   ],
   "metadata": {},
   "execution_count": null
  },
  {
   "outputs": [],
   "cell_type": "markdown",
   "source": [
    "### Conservation\n",
    "\n",
    "You can use the MIToS' Information module to calculate the Shannon entropy of\n",
    "each MSA column:"
   ],
   "metadata": {}
  },
  {
   "outputs": [],
   "cell_type": "code",
   "source": [
    "using MIToS.Information\n",
    "\n",
    "const alphabet = UngappedAlphabet()"
   ],
   "metadata": {},
   "execution_count": null
  },
  {
   "outputs": [],
   "cell_type": "markdown",
   "source": [
    "You also have `GappedAlphabet` and `ReducedAlphabet`:"
   ],
   "metadata": {}
  },
  {
   "outputs": [],
   "cell_type": "code",
   "source": [
    "ReducedAlphabet(\"(AILMV)(RHK)(NQST)(DE)(FWY)CGP\")"
   ],
   "metadata": {},
   "execution_count": null
  },
  {
   "outputs": [],
   "cell_type": "markdown",
   "source": [
    "Empty contingency tables can be defined by using\n",
    "`ContingencyTable(element_type, Val{dimensions}, alphabet)`:"
   ],
   "metadata": {}
  },
  {
   "outputs": [],
   "cell_type": "code",
   "source": [
    "const table = ContingencyTable(Int, Val{1}, alphabet)"
   ],
   "metadata": {},
   "execution_count": null
  },
  {
   "outputs": [],
   "cell_type": "markdown",
   "source": [
    "The `mapcolfreq!`, `mapseqfreq!`, `mapcolpairfreq!` and `mapseqpairfreq!`\n",
    "functions from the Information module apply a function on the table filled\n",
    "using each column, sequence, column pair or sequence pair of the MSA,\n",
    "respectively:"
   ],
   "metadata": {}
  },
  {
   "outputs": [],
   "cell_type": "code",
   "source": [
    "Hx = mapcolfreq!(entropy, msa, Counts(table))"
   ],
   "metadata": {},
   "execution_count": null
  },
  {
   "outputs": [],
   "cell_type": "markdown",
   "source": [
    "We use **Plots.jl** to visualize the entropy of each column to find variable\n",
    "and conserved regions"
   ],
   "metadata": {}
  },
  {
   "outputs": [],
   "cell_type": "code",
   "source": [
    "gr()"
   ],
   "metadata": {},
   "execution_count": null
  },
  {
   "outputs": [],
   "cell_type": "code",
   "source": [
    "plot_entropy = plot(vec(Hx),\n",
    "\t\t\t\t\tcolor=:orange,\n",
    "\t\t\t\t\tfill=0,\n",
    "\t\t\t\t\tfillalpha=0.5,\n",
    "\t\t\t\t\tlegend=false,\n",
    "\t\t\t\t\tylab=\"Entropy\")"
   ],
   "metadata": {},
   "execution_count": null
  },
  {
   "outputs": [],
   "cell_type": "code",
   "source": [
    "plot_msa = plot(msa, legend=false)"
   ],
   "metadata": {},
   "execution_count": null
  },
  {
   "outputs": [],
   "cell_type": "code",
   "source": [
    "plot(plot_entropy,\n",
    "\t plot_msa,\n",
    "\t layout=grid(2, 1, heights=[0.2, 0.8]),\n",
    "\t link=:x)"
   ],
   "metadata": {},
   "execution_count": null
  },
  {
   "outputs": [],
   "cell_type": "markdown",
   "source": [
    "## Multivariate mutual information\n",
    "\n",
    "We are going to measure mutual information in MSA column triplets. We use\n",
    "Julia parallelism because the number of combinations is high."
   ],
   "metadata": {}
  },
  {
   "outputs": [],
   "cell_type": "code",
   "source": [
    "using Distributed"
   ],
   "metadata": {},
   "execution_count": null
  },
  {
   "outputs": [],
   "cell_type": "code",
   "source": [
    "nprocs()"
   ],
   "metadata": {},
   "execution_count": null
  },
  {
   "outputs": [],
   "cell_type": "code",
   "source": [
    "addprocs(3)"
   ],
   "metadata": {},
   "execution_count": null
  },
  {
   "outputs": [],
   "cell_type": "code",
   "source": [
    "nprocs()"
   ],
   "metadata": {},
   "execution_count": null
  },
  {
   "outputs": [],
   "cell_type": "markdown",
   "source": [
    "We are going to use [Combinatorics](https://github.com/JuliaMath/Combinatorics.jl)\n",
    "everywhere (in all the process) to get a generator of the combinations and\n",
    "[ProgressMeter](https://github.com/timholy/ProgressMeter.jl) to see the\n",
    "progress of the parallel loop."
   ],
   "metadata": {}
  },
  {
   "outputs": [],
   "cell_type": "code",
   "source": [
    "@everywhere using Combinatorics\n",
    "@everywhere using ProgressMeter\n",
    "@everywhere using MIToS.MSA\n",
    "@everywhere using MIToS.Information"
   ],
   "metadata": {},
   "execution_count": null
  },
  {
   "outputs": [],
   "cell_type": "markdown",
   "source": [
    "#### Exercise 1\n",
    "\n",
    "Fill the missing parts of the function to calculate mutual information\n",
    "between MSA columns i, j and k."
   ],
   "metadata": {}
  },
  {
   "outputs": [],
   "cell_type": "code",
   "source": [
    "function parallel_mmi(msa)\n",
    "\tncols = ncolumns(msa)\n",
    "\ttriplets = combinations(1:ncols, 3)\n",
    "\t@showprogress pmap(triplets) do (i, j, k)\n",
    "#           ...to complete...\n",
    "#           (i, j, k) => ...to complete...\n",
    "\tend\n",
    "end"
   ],
   "metadata": {},
   "execution_count": null
  },
  {
   "outputs": [],
   "cell_type": "code",
   "source": [
    "mi_values = parallel_mmi(msa)"
   ],
   "metadata": {},
   "execution_count": null
  },
  {
   "outputs": [],
   "cell_type": "markdown",
   "source": [
    "*This notebook was generated using [Literate.jl](https://github.com/fredrikekre/Literate.jl).*"
   ],
   "metadata": {}
  }
 ],
 "nbformat_minor": 3,
 "metadata": {
  "language_info": {
   "file_extension": ".jl",
   "mimetype": "application/julia",
   "name": "julia",
   "version": "1.1.0"
  },
  "kernelspec": {
   "name": "julia-1.1",
   "display_name": "Julia 1.1.0",
   "language": "julia"
  }
 },
 "nbformat": 4
}
