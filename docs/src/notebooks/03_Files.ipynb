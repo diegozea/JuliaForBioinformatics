{
 "cells": [
  {
   "outputs": [],
   "cell_type": "markdown",
   "source": [
    "# Working with Files\n",
    "\n",
    "\n",
    "Often, bioinformatic pipelines imply to manipulate text files. Here, we are\n",
    "going to parse a very simple FASTA file just as an example.\n",
    "\n",
    "There is a FASTA file in the data folder of this repo:"
   ],
   "metadata": {}
  },
  {
   "outputs": [],
   "cell_type": "code",
   "source": [
    "using  JuliaForBioinformatics\n",
    "repo_path = pathof(JuliaForBioinformatics)"
   ],
   "metadata": {},
   "execution_count": null
  },
  {
   "outputs": [],
   "cell_type": "markdown",
   "source": [
    "You can use `joinpath` and `abspath` to construct a path that works in all\n",
    "the operative systems:"
   ],
   "metadata": {}
  },
  {
   "outputs": [],
   "cell_type": "code",
   "source": [
    "data_path = abspath(repo_path, \"..\", \"..\", \"data\")"
   ],
   "metadata": {},
   "execution_count": null
  },
  {
   "outputs": [],
   "cell_type": "code",
   "source": [
    "fasta_file = joinpath(data_path, \"O43521.fasta\")"
   ],
   "metadata": {},
   "execution_count": null
  },
  {
   "outputs": [],
   "cell_type": "markdown",
   "source": [
    "You can use `open` with the\n",
    "[`do` syntax](https://docs.julialang.org/en/v1/manual/functions/#Do-Block-Syntax-for-Function-Arguments-1)\n",
    "to read or write a file in Julia:"
   ],
   "metadata": {}
  },
  {
   "outputs": [],
   "cell_type": "code",
   "source": [
    "open(fasta_file, \"r\") do file\n",
    "    for line in eachline(file)\n",
    "        println(line)\n",
    "    end\n",
    "end"
   ],
   "metadata": {},
   "execution_count": null
  },
  {
   "outputs": [],
   "cell_type": "markdown",
   "source": [
    "#### Exercise 1\n",
    "\n",
    "Write a function to read the FASTA file into a dictionary from the\n",
    "sequence/isoform UniProt name, i.e. the one between `|`, to the sequence.\n",
    "\n",
    "**Hint!** You can use the following functions:"
   ],
   "metadata": {}
  },
  {
   "outputs": [],
   "cell_type": "code",
   "source": [
    "split(\"1 2 3\", ' ')"
   ],
   "metadata": {},
   "execution_count": null
  },
  {
   "outputs": [],
   "cell_type": "code",
   "source": [
    "startswith(\"Hello world!\", 'H')"
   ],
   "metadata": {},
   "execution_count": null
  },
  {
   "outputs": [],
   "cell_type": "code",
   "source": [
    "strip(\"  Hello world!  \")"
   ],
   "metadata": {},
   "execution_count": null
  },
  {
   "outputs": [],
   "cell_type": "markdown",
   "source": [
    "and [string concatenation](https://docs.julialang.org/en/v1/manual/strings/#man-concatenation-1):"
   ],
   "metadata": {}
  },
  {
   "outputs": [],
   "cell_type": "code",
   "source": [
    "\"Hello \" * \"world!\""
   ],
   "metadata": {},
   "execution_count": null
  },
  {
   "outputs": [],
   "cell_type": "code",
   "source": [
    "# function read_fasta(...)\n",
    "#     ...\n",
    "# end"
   ],
   "metadata": {},
   "execution_count": null
  },
  {
   "outputs": [],
   "cell_type": "markdown",
   "source": [
    "## Regex\n",
    "\n",
    "You can also use [regular expressions](https://docs.julialang.org/en/v1/manual/strings/#Regular-Expressions-1).\n",
    "They are very useful to parse text files."
   ],
   "metadata": {}
  },
  {
   "outputs": [],
   "cell_type": "code",
   "source": [
    "line = \">sp|O43521|B2L11_HUMAN Bcl-2-like protein 11 OS=Homo sapiens OX=9606 GN=BCL2L11 PE=1 SV=1\""
   ],
   "metadata": {},
   "execution_count": null
  },
  {
   "outputs": [],
   "cell_type": "code",
   "source": [
    "regex = r\"^>\\w+\\|(\\w+)\\|\""
   ],
   "metadata": {},
   "execution_count": null
  },
  {
   "outputs": [],
   "cell_type": "code",
   "source": [
    "m = match(regex, line)"
   ],
   "metadata": {},
   "execution_count": null
  },
  {
   "outputs": [],
   "cell_type": "code",
   "source": [
    "if m !== nothing\n",
    "    println(m[1])\n",
    "end"
   ],
   "metadata": {},
   "execution_count": null
  },
  {
   "outputs": [],
   "cell_type": "markdown",
   "source": [
    "## String interpolation\n",
    "\n",
    "You can [interpolate values](https://docs.julialang.org/en/v1/manual/strings/#string-interpolation-1),\n",
    "single variables or the result of more complex expressions, into\n",
    "strings using `$`:"
   ],
   "metadata": {}
  },
  {
   "outputs": [],
   "cell_type": "code",
   "source": [
    "a = 1\n",
    "b = 2\n",
    "\"$a + $b is $(a + b)\""
   ],
   "metadata": {},
   "execution_count": null
  },
  {
   "outputs": [],
   "cell_type": "markdown",
   "source": [
    "*This notebook was generated using [Literate.jl](https://github.com/fredrikekre/Literate.jl).*"
   ],
   "metadata": {}
  }
 ],
 "nbformat_minor": 3,
 "metadata": {
  "language_info": {
   "file_extension": ".jl",
   "mimetype": "application/julia",
   "name": "julia",
   "version": "1.1.0"
  },
  "kernelspec": {
   "name": "julia-1.1",
   "display_name": "Julia 1.1.0",
   "language": "julia"
  }
 },
 "nbformat": 4
}
